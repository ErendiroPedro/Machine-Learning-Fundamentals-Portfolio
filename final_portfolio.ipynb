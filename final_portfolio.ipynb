{
 "cells": [
  {
   "cell_type": "markdown",
   "metadata": {},
   "source": [
    "# Advanced Machine Learning SS 2024\n",
    "## Group Portfolio for the Final Grade\n",
    "\n",
    "Welcome to the final portfolio of the Advance Machine Learning Course 2024. Please read the following instructions carefully. \n",
    "\n",
    "<div class=\"alert alert-block alert-info\">\n",
    "\n",
    "* In this Jupyter Notebook, you find **12 exercises**. Each exercise is about one of the lectures your heard this semester.\n",
    "\n",
    "* The portfolio should be solved as a **group of three** that was registered in Stud.IP. Deadline for handing the portfolio in is the **17th of July 2024 23:59 CET (German time)**.\n",
    "\n",
    "* Do **not** add, delete, or rearrange cells. Also, only modify those cells which say to insert an answer or code (double click on the cell that says \"Insert your answer here\")\n",
    "\n",
    "* If you did not participate in the tutorials and want to run the code segments in the portofolio, follow the installation instructions you find on stud.ip under files -> Tutorial Monday -> Installation Guideline \n",
    "\n",
    "* If you include code that is intended to be run to generate a solution, make sure that we can run your code without any modifications to the submitted notebook (i.e., no missing imports, top-to-bottom execution of cells, no absolute paths, etc.)\n",
    "\n",
    "* The exercise 12, reflection of AI tools is **mandatory** for the portfolio.\n",
    "\n",
    "* Please fill out the individual contribution statement at the end\n",
    "</div>\n",
    "\n",
    "*Good luck!*"
   ]
  },
  {
   "cell_type": "markdown",
   "metadata": {},
   "source": [
    "##### **Please enter the names and student ID numbers of all group members here:**"
   ]
  },
  {
   "cell_type": "markdown",
   "metadata": {},
   "source": [
    "* Johannes Steffen - 6168511\n",
    "* Mohamad Taleb - 6266909\n",
    "* Erendiro Pedro - 6271044"
   ]
  },
  {
   "cell_type": "markdown",
   "metadata": {},
   "source": [
    "### Excercise 1: NN Basics"
   ]
  },
  {
   "cell_type": "markdown",
   "metadata": {},
   "source": [
    "Consider the following Neural Network given with a input, hidden and output layer and loss function as Binary Cross entropy. The hidden layer uses ReLU and output layer uses sigmoid as activation function. The output label can be either 1 or 0. For the calculations the input x and weights in hidden layer and output layer are given and the label for the corresponding input is 0. <br>\n",
    "\n",
    "![alternative text](portfolio_images/NN_diagram_1.png) <br>\n",
    "$input, x = \\begin{bmatrix}x_{1} \\\\x_{2} \\end{bmatrix} =\\begin{bmatrix}-1 \\\\2 \\end{bmatrix}$ and label, y = 0<br>\n",
    "$W^{T}_{hidden} = \\begin{bmatrix} w_{11}&w_{21}\\\\w_{12}&w_{22}\\end{bmatrix}= \\begin{bmatrix} 0.2&0.1\\\\-0.1&0.2\\end{bmatrix} $ <br>\n",
    "a = $W^{T}_{hidden}x$ <br>\n",
    "output of the hidden layer, $h = ReLU(a)$ <br>\n",
    "$W^{T}_{out} = \\begin{bmatrix}0.1 & 0.2 \\end{bmatrix} $ <br>\n",
    "$a_{out}$ = $W^{T}_{out}h$ <br>\n",
    "output of the output layer, $y' = \\sigma (a_{out})$ <br>\n",
    "\n",
    "Show that gradient descent with back-propagation reduces the Binary Cross Entropy loss using the following steps: <br>\n",
    "\n",
    "a) Compute the current loss $L_{(1)}$ using forward propagation. (2 points) <br>\n"
   ]
  },
  {
   "cell_type": "markdown",
   "metadata": {},
   "source": [
    "$a=\\begin{bmatrix} 0.2&0.1\\\\-0.1&0.2\\end{bmatrix}*\\begin{bmatrix}-1 \\\\2 \\end{bmatrix}=\\begin{bmatrix}a_1 \\\\a_2 \\end{bmatrix}=\\begin{bmatrix}0 \\\\0.5 \\end{bmatrix}$<br><br>\n",
    "$h = ReLU(a)=\\begin{bmatrix}0 \\\\0.5 \\end{bmatrix}$<br><br>\n",
    "$a_{out}=\\begin{bmatrix}0.1 & 0.2 \\end{bmatrix}*\\begin{bmatrix}0 \\\\0.5 \\end{bmatrix}=0.1$<br><br>\n",
    "$y' = \\sigma (a_{out})=\\frac{1}{1+\\exp(-a_{out})}=0.5249$<br><br>\n",
    "$L_{(1)}=|y_{true}-y'|=|0-0.5249|=0.5249$"
   ]
  },
  {
   "cell_type": "markdown",
   "metadata": {},
   "source": [
    "b) Compute the gradients of all weights using Back-propagation and apply Gradient descent with a learning rate of 0.1 to update the weights. (3 points) <br>\n"
   ]
  },
  {
   "cell_type": "markdown",
   "metadata": {},
   "source": [
    "$\\frac{\\partial L_{(1)}}{\\partial w_1}=\\frac{\\partial L_{(1)}}{\\partial y'}\\frac{\\partial y'}{\\partial w_1} \\rightarrow \\frac{\\partial L_{(1)}}{\\partial y'}=\\frac{\\partial|y_{true}-y'|}{\\partial y'}=\\frac{y'-y_{true}}{|y_{true}-y'|}=1, \\frac{\\partial y'}{\\partial w_1}=\\frac{\\partial\\sigma (a_{out})}{\\partial w_1}=a_1*(1+\\exp(-a_1*w_1-a_2*w_2))^{-2}\\exp(-a_1*w_1-a_2*w_2)=0 \\rightarrow \\frac{\\partial L_{(1)}}{\\partial w_1}=0$<br><br>\n",
    "$\\frac{\\partial L_{(1)}}{\\partial w_2}=\\frac{\\partial L_{(1)}}{\\partial y'}\\frac{\\partial y'}{\\partial w_2} \\rightarrow \\frac{\\partial L_{(1)}}{\\partial y'}=1, \\frac{\\partial y'}{\\partial w_2}=\\frac{\\partial\\sigma (a_{out})}{\\partial w_2}=a_2*(1+\\exp(-a_1*w_1-a_2*w_2))^{-2}\\exp(-a_1*w_1-a_2*w_2)=0.1246 \\rightarrow \\frac{\\partial L_{(1)}}{\\partial w_2}=0.1246$<br><br>\n",
    "$\\frac{\\partial L_{(1)}}{\\partial w_{11}}=\\frac{\\partial L_{(1)}}{\\partial y'}\\frac{\\partial y'}{\\partial a_1}\\frac{\\partial a_1}{\\partial w_{11}} \\rightarrow \\frac{\\partial L_{(1)}}{\\partial y'}=1, \\frac{\\partial y'}{\\partial a_1}=\\frac{\\partial\\sigma (a_{out})}{\\partial a_1}=w_1*(1+\\exp(-a_1*w_1-a_2*w_2))^{-2}\\exp(-a_1*w_1-a_2*w_2), \\frac{\\partial a_1}{\\partial w_{11}}=\\frac{\\partial x_1*w_{11}+x_2*w_{21}}{\\partial w_{11}}=x_1 \\rightarrow \\frac{\\partial L_{(1)}}{\\partial w_{11}}=1*w_1*(1+\\exp(-a_1*w_1-a_2*w_2))^{-2}\\exp(-a_1*w_1-a_2*w_2)*x_1=-0.02493$<br><br>\n",
    "$\\frac{\\partial L_{(1)}}{\\partial w_{21}}=\\frac{\\partial L_{(1)}}{\\partial y'}\\frac{\\partial y'}{\\partial a_1}\\frac{\\partial a_1}{\\partial w_{21}} \\rightarrow \\frac{\\partial L_{(1)}}{\\partial y'}=1, \\frac{\\partial y'}{\\partial a_1}=w_1*(1+\\exp(-a_1*w_1-a_2*w_2))^{-2}\\exp(-a_1*w_1-a_2*w_2), \\frac{\\partial a_1}{\\partial w_{21}}=\\frac{\\partial x_1*w_{11}+x_2*w_{21}}{\\partial w_{21}}=x_2 \\rightarrow \\frac{\\partial L_{(1)}}{\\partial w_{21}}=1*w_1*(1+\\exp(-a_1*w_1-a_2*w_2))^{-2}\\exp(-a_1*w_1-a_2*w_2)*x_2=0.04987$<br><br>\n",
    "$\\frac{\\partial L_{(1)}}{\\partial w_{22}}=\\frac{\\partial L_{(1)}}{\\partial y'}\\frac{\\partial y'}{\\partial a_2}\\frac{\\partial a_2}{\\partial w_{22}} \\rightarrow \\frac{\\partial L_{(1)}}{\\partial y'}=1, \\frac{\\partial y'}{\\partial a_2}=\\frac{\\partial\\sigma (a_{out})}{\\partial a_2}=w_2*(1+\\exp(-a_1*w_1-a_2*w_2))^{-2}\\exp(-a_1*w_1-a_2*w_2), \\frac{\\partial a_2}{\\partial w_{22}}=\\frac{\\partial x_1*w_{12}+x_2*w_{22}}{\\partial w_{22}}=x_2 \\rightarrow \\frac{\\partial L_{(1)}}{\\partial w_{22}}=1*w_2*(1+\\exp(-a_1*w_1-a_2*w_2))^{-2}\\exp(-a_1*w_1-a_2*w_2)*x_2=0.0997$<br><br>\n",
    "$\\frac{\\partial L_{(1)}}{\\partial w_{12}}=\\frac{\\partial L_{(1)}}{\\partial y'}\\frac{\\partial y'}{\\partial a_2}\\frac{\\partial a_2}{\\partial w_{12}} \\rightarrow \\frac{\\partial L_{(1)}}{\\partial y'}=1, \\frac{\\partial y'}{\\partial a_2}=w_2*(1+\\exp(-a_1*w_1-a_2*w_2))^{-2}\\exp(-a_1*w_1-a_2*w_2), \\frac{\\partial a_2}{\\partial w_{12}}=\\frac{\\partial x_1*w_{12}+x_2*w_{22}}{\\partial w_{12}}=x_1 \\rightarrow \\frac{\\partial L_{(1)}}{\\partial w_{12}}=1*w_2*(1+\\exp(-a_1*w_1-a_2*w_2))^{-2}\\exp(-a_1*w_1-a_2*w_2)*x_1=-0.04987$<br><br>\n",
    "$\\begin{bmatrix}w_1' \\\\w_2' \\\\w_{11}' \\\\w_{12}' \\\\w_{21}' \\\\w_{22}'\\end{bmatrix}=\\begin{bmatrix}w_1 \\\\w_2 \\\\w_{11} \\\\w_{12} \\\\w_{21} \\\\w_{22}\\end{bmatrix}-0.1*\\begin{bmatrix}\\frac{\\partial L_{(1)}}{\\partial w_1} \\\\\\frac{\\partial L_{(1)}}{\\partial w_2} \\\\\\frac{\\partial L_{(1)}}{\\partial w_{11}} \\\\\\frac{\\partial L_{(1)}}{\\partial w_{12}} \\\\\\frac{\\partial L_{(1)}}{\\partial w_{21}} \\\\\\frac{\\partial L_{(1)}}{\\partial w_{22}}\\end{bmatrix}=\\begin{bmatrix}0.1 \\\\0.1875 \\\\0.20249 \\\\-0.09502 \\\\0.09502 \\\\0.1901\\end{bmatrix}$<br><br>"
   ]
  },
  {
   "cell_type": "markdown",
   "metadata": {},
   "source": [
    "c) Perform Forward-propagation again with the updated weights and recompute the loss $L_{(2)}$ (2 points)"
   ]
  },
  {
   "cell_type": "markdown",
   "metadata": {},
   "source": [
    "$a=\\begin{bmatrix} 0.20249&0.09502\\\\-0.09502&0.1901\\end{bmatrix}*\\begin{bmatrix}-1 \\\\2 \\end{bmatrix}=\\begin{bmatrix}a_1 \\\\a_2 \\end{bmatrix}=\\begin{bmatrix}-0.01245  \\\\0.47522 \\end{bmatrix}$<br><br>\n",
    "$h = ReLU(a)=\\begin{bmatrix}0  \\\\0.47522 \\end{bmatrix}$<br><br>\n",
    "$a_{out}=\\begin{bmatrix}0.1 & 0.1875 \\end{bmatrix}*\\begin{bmatrix}0  \\\\0.47522 \\end{bmatrix}=0.0891$<br><br>\n",
    "$y' = \\sigma (a_{out})=\\frac{1}{1+\\exp(-0.0891)}=0.5226$<br><br>\n",
    "$L_{(2)}=|y_{true}-y'|=|0-0.5226|=0.5226$"
   ]
  },
  {
   "cell_type": "markdown",
   "metadata": {},
   "source": [
    "### Exercise 2: Regularization and Optimization"
   ]
  },
  {
   "cell_type": "markdown",
   "metadata": {},
   "source": [
    "#### a) Questions\n",
    "\n",
    "| Model | 1. | 2. | 3. | 4. |\n",
    "| --- | --- | --- | --- | --- |\n",
    "| Train Error | 0.39 | 0.25 | 0.5 | 0.15 |\n",
    "| Test Error | 0.4 | 0.3 | 0.5 | 0.6 |\n",
    "\n",
    "Let's say, you're training a neural network to classify male and female avatar faces. Your dataset is difficult: a person manages to achieve only a 85% accuracy on it. At different stages during the development of your model you achieve the following four train, test error tuples."
   ]
  },
  {
   "cell_type": "markdown",
   "metadata": {},
   "source": [
    "**1. Explain why you would look at the train and test error, what the difference between them is, and how they relate to the error of the model. (maximum 5 sentences):** (1 points)"
   ]
  },
  {
   "cell_type": "markdown",
   "metadata": {},
   "source": [
    "Train error is associated with the dataset used to train the model. In contrast, test error is calculated using a separate dataset that the model has not previously encountered during training. The train error provides insight into the model's bias, while the test error helps identify variance. When the train error is significantly lower than the test error, it suggests high variance, indicating overfitting. Conversely, a high train error points to high bias, signaling underfitting in the model. An effective model should demonstrate high accuracy not just on the training dataset, but also on new, unseen data. This means the model should achieve both low bias and low variance in its performance."
   ]
  },
  {
   "cell_type": "markdown",
   "metadata": {},
   "source": [
    "**2. Match the model performance and Bias/Variance situations to each dartboard hit illustration in the figure below and give a short explanation (1 sentence) to each combination. Also match each illustration with a model from the table above.** (2 points)\n",
    "\n",
    "*Example solution:*\n",
    "* A - *Bias/Variance: a, Model performance: a, Model: 1*\n",
    "* B - *Bias/Variance: b, Model performance: b, Model: 2*\n",
    "\n",
    "Bias/Variance: **a.** high variance + high bias, **b.** high variance, **c.** high bias, **d.** low bias + low variance <br>\n",
    "Model performance: **a.** best model, **b.** worst model, **c.** overfitting, **d.** underfitting"
   ]
  },
  {
   "cell_type": "markdown",
   "metadata": {},
   "source": [
    "![Figure 1](portfolio_images/dartboard_illustration_Q2.jpg)"
   ]
  },
  {
   "cell_type": "markdown",
   "metadata": {},
   "source": [
    "A - Bias/Variance: d, Model performance: a, Model: 2\n",
    "The majority of data points fall within the red circle, indicating low training and test errors, as well as low variance and low bias.\n",
    "\n",
    "B - Bias/Variance: b, Model performance: d, Model: 1\n",
    "The data points are generally distributed around the red circle, resulting in slightly elevated training and test errors. This model has a higher variance\n",
    "\n",
    "C - Bias/Variance: a, Model performance: b, Model: 3\n",
    "The model's results show significant variation (high variance), with all outcomes considerably distant from the target. It is therefore the worst model.\n",
    "\n",
    "D - Bias/Variance: c, Model performance: c, Model: 4\n",
    "The model exhibits excellent performance on the training data but performs poorly on the test dataset."
   ]
  },
  {
   "cell_type": "markdown",
   "metadata": {},
   "source": [
    "**3. Why is Regularization important in machine learning and how does the L2 regularization affect the model training process? Give another example of a regularization method!** (1 point)"
   ]
  },
  {
   "cell_type": "markdown",
   "metadata": {},
   "source": [
    "Regularization techniques help machine learning models reduce overfitting. L2 regularization alters the loss function, causing all weights to be reduced towards zero, but not precisely to zero. This approach lessens the model's reliance on particular features. L1 regularization is an alternative regularization technique"
   ]
  },
  {
   "cell_type": "markdown",
   "metadata": {},
   "source": [
    "**4. Is overfitting an issue for massive-scale models, like large-language models? What evidence for or against overfitting do you see?** (1 point)"
   ]
  },
  {
   "cell_type": "markdown",
   "metadata": {},
   "source": [
    "Large models are generally prone to overfitting due to their high number of parameters. As model size increases, substantially more training data is typically required to avoid overfitting.\n",
    "However some models with larger parameter spaces, such as LLMs, have shown a counterintuitive trend. They tend to exhibit better generalization as they scale up, a phenomenon often referred to as \"scaling laws.\" As a result, models like LLMs may continue to improve with more data and compute, without showing clear signs of overfitting within current practical training limits."
   ]
  },
  {
   "cell_type": "markdown",
   "metadata": {},
   "source": [
    "#### b) Implementation\n",
    "Use the following code cell to:\n",
    "\n",
    "**1. Implement your own binary Cross-Entropy loss function.**  (2 points)\n",
    "\n",
    "**2. Add L2 regularization using the L2 regularized *binary* objective function.** (2 points)\n",
    "\n",
    "Notes:\n",
    "* Do not change existing code, only add your code. Follow the hints in the comments.\n",
    "* Implement BINARY cross-entropy loss. There will be NO points for implementing categorical CE!\n",
    "* Do NOT use loops when implementing the loss function (no \"for\", \"while\")! We will deduct points if loops are used!"
   ]
  },
  {
   "cell_type": "code",
   "execution_count": 1,
   "metadata": {},
   "outputs": [],
   "source": [
    "import torch\n",
    "import torch.nn as nn\n",
    "import torch.nn.functional as F\n",
    "\n",
    "class MyCrossEntropyLoss(nn.Module):\n",
    "    \n",
    "    def __init__(self, params, l2=0):\n",
    "        super().__init__()\n",
    "        self.l2 = l2\n",
    "        self.para = params\n",
    "\n",
    "    def forward(self, y_predicted, y_target):\n",
    "        y_predicted = F.sigmoid(y_predicted)\n",
    "        \n",
    "        ### start; your code here\n",
    "        eps = 1e-8\n",
    "        # cross-entropy\n",
    "        loss = -torch.mean(y_target * torch.log(y_predicted + eps) + (1 - y_target) * torch.log(1 - y_predicted + eps)) # small epsilon was added for stability, avoid nan values when taking log of 0\n",
    "        ### end of your code;\n",
    "\n",
    "        # using L2 regularization\n",
    "        if self.l2 > 0:\n",
    "            # loop over all parameters (weight matrices and bias vectors)\n",
    "            for p in self.para:\n",
    "                # p.data contains the current parameter values. In the used network all weights are matrices, so\n",
    "                # we filter biases based on that fact\n",
    "                if len(p.data.size()) == 1:\n",
    "                    # skip bias vectors\n",
    "                    continue\n",
    "                    \n",
    "                ### start; your code here\n",
    "                l2_regularization_term = torch.sum(torch.mul(p.data, p.data)) # calculate L2 term (squared L2 norm of weight matrix)\n",
    "                loss += self.l2 * l2_regularization_term  # regularized loss function\n",
    "                ### end of your code;\n",
    "\n",
    "\n",
    "        return loss"
   ]
  },
  {
   "cell_type": "markdown",
   "metadata": {},
   "source": [
    "**3. What does the ```y_predicted = F.sigmoid(y_predicted)``` do and what is the benefit of it ?** (1 point)"
   ]
  },
  {
   "cell_type": "markdown",
   "metadata": {},
   "source": [
    "This code applies the sigmoid function to the y_predicted tensor. The sigmoid function transforms the input values to a range between 0 and 1. Large negative inputs are mapped close to 0, while large positive inputs are mapped close to 1. This transformation ensures all input predictions fall between 0 and 1, which is necessary for the log function to produce valid results. Additionally, it introduces non-linearity into the network's computations."
   ]
  },
  {
   "cell_type": "markdown",
   "metadata": {},
   "source": [
    "### Exercise 3 : End-to-End Systems"
   ]
  },
  {
   "cell_type": "markdown",
   "metadata": {},
   "source": [
    "**1. Explain what an End-to-End Deep Learning System is by discussing an example in the context of Machine Translation** (2 points)"
   ]
  },
  {
   "cell_type": "markdown",
   "metadata": {},
   "source": [
    "An End-to-End Deep Learning System substitutes multiple specialized modules, each addressing a subproblem, with a single large Neural Network. In Machine Translation, this could involve a Neural Network that processes audio input in one language and generates audio output in another language.\n",
    "This could replace a multi-modular system with specific modules for:\n",
    "\n",
    "1. Generating text from the input audio file.\n",
    "2. Translating this text to another language.\n",
    "3. Generating a new audio file from the translation."
   ]
  },
  {
   "cell_type": "markdown",
   "metadata": {},
   "source": [
    "**2. The Amarican superhero Daredevil who is blind wants to question the only suspect regarding the investigation he is conducting. However, the suspect is deaf and only communicates in Italian Sign Language. He hires you and asks you to build a system that will enable him to interrogate this suspect.** (4 points)\n",
    "\n",
    "i) How would your system look like that is solving this task? Give a rough outline of both: an End-to-End system as well as a modular system (input/output and involved processes/modules (rough) for each system).\n",
    "\n",
    "ii) What are the advantages/disadvantages of each of your systems (End2End vs modular) you described in i)?\n",
    "\n",
    "Grading conditions / important notes:\n",
    "\n",
    "For (i): Make sure to identify all sub-problems your system needs to tackle in order to appropriately solve the described task."
   ]
  },
  {
   "cell_type": "markdown",
   "metadata": {},
   "source": [
    "i)\n",
    "\n",
    "i.1)\n",
    "In a modular approach, the initial step might involve developing a module that converts videos of Italian Sign Language into written English text (for example). This phase heavily relies on expert knowledge in recognizing specific gestures in video footage. This component would likely employ a specialized algorithm designed to interpret and process these gestures. If circumstances required the video to be initially translated into Italian text, a subsequent module would need to perform text-to-text translation from English to Italian. The next module in the system would require an algorithm to convert written English text into spoken English. This task typically involves highly specialized text-to-speech algorithms also (text to sound algorithms).\n",
    "\n",
    "1.2)\n",
    "In contrast, an End-to-End Deep Learning System would aim to construct a Neural Network capable of directly transforming Italian Sign Language video as file input into English speech audio output as file. This Neural Network would incorporate layers specialized in processing audio and video data. However, it would not utilize the existing modules for video-to-text transcription also written text or text-to-speech conversion also to audio file. The intermediate step of generating a text file can be bypassed. The model would learn to identify patterns in the video that it can directly associate with the corresponding sound waves for the output.\n",
    "\n",
    "ii)\n",
    "\n",
    "| Category | Modular System | End-to-End Deep Learning System | \n",
    "|---|---|---|\n",
    "| Use of existing infrastructures |The two (or three) distinct modules each represent challenges that already have well-developed and likely adequate solutions and implementations available. Converting video gestures to text is possibly the least common among these modules, yet it remains a problem that researchers have previously addressed and attempted to resolve (as evidenced by existing literature on the topic see [this paper](https://www.researchgate.net/publication/221588179_A_Virtual_Interpreter_for_the_Italian_Sign_Language)). Translating Italian into English text is a routine task for major translation applications, and converting written English to spoken English is a standard feature on most modern smartphones. The primary objective for a modular system would be to integrate all two or three modules in sequence. | An integrated end-to-end system is considerably less likely to have an existing implementation available elsewhere. It's quite possible that such a neural network has never been attempted before, which would necessitate its implementation and training from the ground up. |\n",
    "| Reusability | In the event that a module, such as the video-to-text translation, emerges as an unexplored task requiring fresh development, this newly created module might have wider applicability in transforming various forms of Italian Sign Language into written text. Such a capability would also prove valuable for applications that do not require text-to-speech translation functionality. | The complete integrated system also End to End System would be applicable exclusively to other applications addressing the identical challenge. |\n",
    "| Training dataset size | Due to the broader scope of individual modules, a significantly larger pool of training data is accessible. The video-to-text module could utilize any labeled sign language footage, while the text-to-speech module could employ any labeled audio recording (also speech file). | The integrated system also End-to-End system necessitates training data in a highly specific format: sign language video footage paired with corresponding English audio annotations. Such specialized training datasets are particularly scarce also hard to find in this context. | \n",
    "| Explainability | A modular system multiple intermediate steps that are intentionally designed to be easily comprehensible to humans. English or Italian text output as file can be reviewed and examined for errors to identify potential flaws in the model's performance. | Such intermediate steps are obscured within the hidden layers of a neural network when employing an End-to-End system. While techniques exist to gain insight into neural network operations, these methods require additional effort and cannot match the precision of having human-readable text as an intermediate step. | \n",
    "| Setup size | The training configuration also setup comprises several distinct modules, each requiring monitoring and interconnection to ensure system functionality. | The training setup involves a single, albeit large, neural network that can undergo an extended training period. | \n",
    "| Sources of error | Each module introduces new error sources, which propagate throughout the entire system. A misclassified word in the video-to-text translation will remain incorrect through the English translation and subsequent text-to-speech translation. | The neural network avoids this issue by bypassing text translation entirely also not translate to text. The End-to-End system would not encounter typical challenges associated with handling text, as it bypasses this step entirely. Some neural networks demonstrate the capability to rectify errors made in earlier layers through processing in subsequent layers. |\n"
   ]
  },
  {
   "cell_type": "markdown",
   "metadata": {},
   "source": [
    "**3. Autonomus Driving system can also be introduced as an end-to-end system. Explain main components of an Autonomus Driving system, and how each components are connected and contribute to the the overall system.** (2 points)\n",
    "\n",
    "Notes: Use \"[Standard Driven Software Architecture for Fully Autonomous Vehicles](https://www.atlantis-press.com/journals/jase/125934832/view)\" by Serban et al. to support your explanations."
   ]
  },
  {
   "cell_type": "markdown",
   "metadata": {},
   "source": [
    "As reported by Serban et al., autonomous driving utilizes multiple pre-developed components, with the majority of these elements having been created independently of each other. These components function as modules with distinct purposes and may be applicable in other systems, like various robotic configurations also robotic setups. However, developing an end-to-end system requires advance planning of the entire software architecture, ensuring all modules are designed to operate as pipelines and gates within a multilevel structure. The system incorporates sensors and their associated software interpreters, which monitor both the surrounding environment and the vehicle's internal state. This sensor array typically includes RADAR and LIDAR systems, multiple cameras, GPS technology, and potentially additional devices. The processed data from these sensors is then transmitted to other components, which utilize this information to make various decisions. A subsequent layer may contain Sensor Fusion modules, which combine data from various sensors to provide a comprehensive view of the environment. This includes, for instance, an object detection module that may utilize camera, RADAR and LIDAR inputs. Additionally, global and local positioning modules can integrate information from GPS along with RADAR and LIDAR data. In an end-to-end system, these sensor fusion modules would be configured to transmit their processed information to a model representing both the internal and external environment. Using these world state representations, decision-making can occur at various levels. Serban et al. distinguish between behavior-based and knowledge-based decision processes. Behavior-based decision-making focuses on the immediate environment, allowing for rapid responses to sudden environmental changes. Behavioral decisions are implemented in modules such as collision avoidance, where the overall plan is irrelevant and decision time is key. Conversely, knowledge-based decisions are necessary for broader planning tasks, like global route planning or lane changing modules. \n",
    "These final components then transmit their information to the vehicle control and actuator systems. Using this data, the autonomous vehicle determines when to accelerate or brake and where to execute turns. Configuring all these components to form a clear pipeline mechanism, with each module designed for its specific role within the global architecture, can be considered an end-to-end system.\n"
   ]
  },
  {
   "cell_type": "markdown",
   "metadata": {},
   "source": [
    "### Exercise 4: RNN/LSTM"
   ]
  },
  {
   "cell_type": "code",
   "execution_count": 33,
   "metadata": {},
   "outputs": [],
   "source": [
    "import os\n",
    "import cv2\n",
    "import torch\n",
    "import numpy as np\n",
    "import torch.nn as nn\n",
    "import torch.nn.functional as F\n",
    "import torch.optim as optim\n",
    "from skimage import io\n",
    "from torch.utils.data import Dataset, DataLoader\n",
    "from tqdm import tqdm\n",
    "from matplotlib import pyplot as plt\n",
    "from sklearn.preprocessing import LabelEncoder\n",
    "import torchvision.transforms as transforms\n",
    "import torchvision.datasets as dsets\n",
    "from torch.autograd import Variable\n",
    "\n",
    "train_dataset = dsets.MNIST(root='./data', \n",
    "                            train=True, \n",
    "                            transform=transforms.ToTensor(),\n",
    "                            download=True)\n",
    "\n",
    "test_dataset = dsets.MNIST(root='./data', \n",
    "                           train=False, \n",
    "                           transform=transforms.ToTensor())\n",
    "\n",
    "\n",
    "batch_size = 100\n",
    "n_iters = 3000\n",
    "num_epochs = n_iters / (len(train_dataset) / batch_size)\n",
    "num_epochs = int(num_epochs)\n",
    "\n",
    "train_loader = torch.utils.data.DataLoader(dataset=train_dataset, \n",
    "                                           batch_size=batch_size, \n",
    "                                           shuffle=True)\n",
    "\n",
    "test_loader = torch.utils.data.DataLoader(dataset=test_dataset, \n",
    "                                          batch_size=batch_size, \n",
    "                                          shuffle=False)\n",
    "\n",
    "input_dim = 28\n",
    "hidden_dim = 64 # for example\n",
    "\n",
    "output_dim = 10 \n",
    "layer_dim = 1\n"
   ]
  },
  {
   "cell_type": "code",
   "execution_count": 34,
   "metadata": {},
   "outputs": [],
   "source": [
    "# The RNN\n",
    "class RNNModel(nn.Module):\n",
    "    def __init__(self, input_dim, hidden_dim, layer_dim, output_dim):\n",
    "        super(RNNModel, self).__init__()\n",
    "        # Hidden dimensions\n",
    "        self.hidden_dim = hidden_dim\n",
    "        \n",
    "        # Number of hidden layers\n",
    "        self.layer_dim = layer_dim\n",
    "        # Building your RNN\n",
    "        self.rnn = nn.RNN(input_dim, hidden_dim, layer_dim, batch_first=True, nonlinearity='tanh')\n",
    "\n",
    "        # Readout layer\n",
    "        self.fc = nn.Linear(hidden_dim, output_dim)\n",
    "        \n",
    "    def forward(self, x):\n",
    "        # Initialize hidden state with zeros\n",
    "        if torch.cuda.is_available():\n",
    "            h0 = torch.zeros(self.layer_dim, x.size(0), self.hidden_dim).cuda()\n",
    "        else:\n",
    "            h0 = torch.zeros(self.layer_dim, x.size(0), self.hidden_dim)\n",
    "\n",
    "        #Define the forward steps\n",
    "            \n",
    "        out, hn = self.rnn(x, h0.detach())\n",
    "        out = self.fc(out[:, -1, :]) \n",
    "        \n",
    "        return out"
   ]
  },
  {
   "cell_type": "markdown",
   "metadata": {},
   "source": [
    "a) From the above lines of code in RNN model (Try to answer short and precisely) \n",
    "\n",
    "1. Is there line(s) of code to prevent exploding or vanishing gradients, (1 point) <br> \n"
   ]
  },
  {
   "cell_type": "markdown",
   "metadata": {},
   "source": [
    "When instantiating nn.RNN(), the attribute nonlinearity='tanh' helps mitigate the problem of exploding gradients. However, this is not the sole purpose of the nonlinearity function. Its primary role is to introduce non-linear transformations in the network, enabling it to learn complex patterns in the data."
   ]
  },
  {
   "cell_type": "markdown",
   "metadata": {},
   "source": [
    "2. if yes, identify the line(s) and explain how it prevents exploding or vanishing gradients <br>\n",
    "3. if no, add line(s) of code for the prevention and explain how<br>(Answer either 2 or 3) (3 points) <br>\n"
   ]
  },
  {
   "cell_type": "markdown",
   "metadata": {},
   "source": [
    "When using nn.RNN() with nonlinearity=tanh, the activation values are constrained between -1 and 1, preventing them from reaching extremely large numbers. This characteristic of tanh indirectly helps manage exploding gradients, although it's not specifically designed as a method to address this issue. More flexible approaches to address exploding gradients include gradient clipping and applying L1 or L2 regularization to the recurrent weights. These techniques are considered explicit methods for managing this issue."
   ]
  },
  {
   "cell_type": "markdown",
   "metadata": {},
   "source": [
    "4. Describe one another method to prevent exploding or vanishing gradient. (1 point)"
   ]
  },
  {
   "cell_type": "markdown",
   "metadata": {},
   "source": [
    "One could use an LSTM or a GRU model to manage information over time. These architectures incorporate specialized mechanisms to regulate data flow within the network."
   ]
  },
  {
   "cell_type": "markdown",
   "metadata": {},
   "source": [
    "b) Implement a Bidirectional GRU model with dropout of 0.1 in the following code (4 points) <br>\n"
   ]
  },
  {
   "cell_type": "code",
   "execution_count": 35,
   "metadata": {},
   "outputs": [],
   "source": [
    "# b) Implementation of Bi-GRU: complete TODOs\n",
    "class GRUModel(nn.Module): # class TextClassifierGRU\n",
    "  def __init__(self, input_dim, hidden_dim, layer_dim, output_dim):  # vocabulary size:vocab_size, dimensions of the embedding:dim_embed, number of classes:num_classes, number of layers:num_lay,hidden dimension:dim_hidden \n",
    "    super(GRUModel,self).__init__()    \n",
    "    # TODO: Hidden dimensions\n",
    "    self.hidden_dim = hidden_dim\n",
    "    \n",
    "    # TODO: Number of hidden layers\n",
    "    self.layer_dim = layer_dim\n",
    "\n",
    "    # TODO: Building your Bi-GRU\n",
    "    self.gru = nn.GRU(input_dim, hidden_dim, layer_dim, dropout=0.1, bidirectional=True) \n",
    "         \n",
    "    #TODO: linear forward layer\n",
    "    self.fc = nn.Linear(hidden_dim * 2, output_dim)\n",
    "\n",
    "  def forward(self,x):\n",
    "      # TODO: Initialize hidden state and cell state with zeros\n",
    "      if torch.cuda.is_available():\n",
    "          h0 = torch.zeros(self.layer_dim * 2, x.shape, self.hidden_dim, device='cuda')\n",
    "      else:\n",
    "          h0 = torch.zeros(self.layer_dim * 2, x.size(0), self.hidden_dim)\n",
    "\n",
    "      \n",
    "      # TODO: Define the forward steps      \n",
    "      out, hn = self.gru(x.transpose(0, 1), h0.detach())\n",
    "      out = self.fc(out[-1, :, :])\n",
    "    \n",
    "      return out"
   ]
  },
  {
   "cell_type": "markdown",
   "metadata": {},
   "source": [
    "c) Check the accuracies of the RNN and GRU, and List down two possible implementations to improve the classifier performance. (1 point)"
   ]
  },
  {
   "cell_type": "code",
   "execution_count": 36,
   "metadata": {},
   "outputs": [],
   "source": [
    "import torch\n",
    "\n",
    "model_rnn = RNNModel(input_dim, hidden_dim, layer_dim, output_dim)\n",
    "model_gru = GRUModel(input_dim, hidden_dim, layer_dim, output_dim)\n",
    "#Move to GPU if available\n",
    "if torch.cuda.is_available():\n",
    "    model_rnn.cuda()\n",
    "    model_gru.cuda()\n",
    "    \n",
    "#Instantiate the Loss\n",
    "criterion = nn.CrossEntropyLoss()\n",
    "\n",
    "#Instantiate the Optimizer\n",
    "learning_rate = 0.1\n",
    "optimizer_rnn = torch.optim.SGD(model_rnn.parameters(), lr=learning_rate)\n",
    "optimizer_gru = torch.optim.SGD(model_gru.parameters(), lr=learning_rate) \n"
   ]
  },
  {
   "cell_type": "code",
   "execution_count": 12,
   "metadata": {},
   "outputs": [
    {
     "name": "stdout",
     "output_type": "stream",
     "text": [
      "Iteration: 500. Loss: 0.8226866126060486. Accuracy: 69.11000061035156\n",
      "Iteration: 1000. Loss: 0.6000189781188965. Accuracy: 84.52999877929688\n",
      "Iteration: 1500. Loss: 0.4823995530605316. Accuracy: 84.80000305175781\n",
      "Iteration: 2000. Loss: 0.38127827644348145. Accuracy: 87.58999633789062\n",
      "Iteration: 2500. Loss: 0.27765244245529175. Accuracy: 90.68000030517578\n",
      "Iteration: 3000. Loss: 0.24542488157749176. Accuracy: 91.37999725341797\n"
     ]
    }
   ],
   "source": [
    "# RNN Training\n",
    "# Number of steps to unroll\n",
    "seq_dim = 28  \n",
    "\n",
    "iter = 0\n",
    "for epoch in range(num_epochs):\n",
    "    for i, (images, labels) in enumerate(train_loader):\n",
    "        # Load images as Variable\n",
    "        if torch.cuda.is_available():\n",
    "            images = Variable(images.view(-1, seq_dim, input_dim).cuda())\n",
    "            labels = Variable(labels.cuda())\n",
    "        else:\n",
    "            images = Variable(images.view(-1, seq_dim, input_dim))\n",
    "            labels = Variable(labels)\n",
    "            \n",
    "        # Clear gradients w.r.t. parameters\n",
    "        optimizer_rnn.zero_grad()\n",
    "        \n",
    "        # Forward pass to get output/logits\n",
    "        outputs = model_rnn(images)\n",
    "        \n",
    "        # Calculate Loss\n",
    "        loss = criterion(outputs, labels)\n",
    "        \n",
    "        # Getting gradients w.r.t. parameters\n",
    "        loss.backward()\n",
    "        \n",
    "        # Updating parameters\n",
    "        optimizer_rnn.step()\n",
    "        \n",
    "        iter += 1\n",
    "        \n",
    "        if iter % 500 == 0:\n",
    "            # Calculate Accuracy         \n",
    "            correct = 0\n",
    "            total = 0\n",
    "            # Iterate through test dataset\n",
    "            for images, labels in test_loader:\n",
    "                if torch.cuda.is_available():\n",
    "                    images = Variable(images.view(-1, seq_dim, input_dim).cuda())\n",
    "                else:\n",
    "                    images = Variable(images.view(-1, seq_dim, input_dim))\n",
    "                \n",
    "                # Forward pass only to get logits/output\n",
    "                outputs = model_rnn(images)\n",
    "                \n",
    "                # Get predictions from the maximum value\n",
    "                _, predicted = torch.max(outputs.data, 1)\n",
    "                \n",
    "                # Total number of labels\n",
    "                total += labels.size(0)\n",
    "                \n",
    "                # Total correct predictions\n",
    "                if torch.cuda.is_available():\n",
    "                    correct += (predicted.cpu() == labels.cpu()).sum()\n",
    "                else:\n",
    "                    correct += (predicted == labels).sum()\n",
    "            \n",
    "            accuracy = 100 * correct / total\n",
    "            \n",
    "            # Print Loss\n",
    "            print('Iteration: {}. Loss: {}. Accuracy: {}'.format(iter, loss.item(), accuracy))"
   ]
  },
  {
   "cell_type": "code",
   "execution_count": 7,
   "metadata": {},
   "outputs": [
    {
     "name": "stdout",
     "output_type": "stream",
     "text": [
      "Iteration: 500. Loss: 2.046844482421875. Accuracy: 35.65999984741211\n",
      "Iteration: 1000. Loss: 0.9181655049324036. Accuracy: 74.26000213623047\n",
      "Iteration: 1500. Loss: 0.41024312376976013. Accuracy: 88.69000244140625\n",
      "Iteration: 2000. Loss: 0.1736876368522644. Accuracy: 92.41000366210938\n",
      "Iteration: 2500. Loss: 0.20328378677368164. Accuracy: 94.7300033569336\n",
      "Iteration: 3000. Loss: 0.22837406396865845. Accuracy: 95.36000061035156\n"
     ]
    }
   ],
   "source": [
    "# GRU Training\n",
    "\n",
    "# Number of steps to unroll\n",
    "seq_dim = 28  \n",
    "\n",
    "iter = 0\n",
    "for epoch in range(num_epochs):\n",
    "    for i, (images, labels) in enumerate(train_loader):\n",
    "        # Load images as Variable\n",
    "        if torch.cuda.is_available():\n",
    "            images = Variable(images.view(-1, seq_dim, input_dim).cuda())\n",
    "            labels = Variable(labels.cuda())\n",
    "        else:\n",
    "            images = Variable(images.view(-1, seq_dim, input_dim))\n",
    "            labels = Variable(labels)\n",
    "            \n",
    "        # Clear gradients w.r.t. parameters\n",
    "        optimizer_gru.zero_grad()\n",
    "        \n",
    "        # Forward pass to get output/logits\n",
    "        outputs = model_gru(images)\n",
    "        \n",
    "        # Calculate Loss\n",
    "        loss = criterion(outputs, labels)\n",
    "        \n",
    "        # Getting gradients w.r.t. parameters\n",
    "        loss.backward()\n",
    "        \n",
    "        # Updating parameters\n",
    "        optimizer_gru.step()\n",
    "        \n",
    "        iter += 1\n",
    "        \n",
    "        if iter % 500 == 0:\n",
    "            # Calculate Accuracy         \n",
    "            correct = 0\n",
    "            total = 0\n",
    "            # Iterate through test dataset\n",
    "            for images, labels in test_loader:\n",
    "                if torch.cuda.is_available():\n",
    "                    images = Variable(images.view(-1, seq_dim, input_dim).cuda())\n",
    "                else:\n",
    "                    images = Variable(images.view(-1, seq_dim, input_dim))\n",
    "                \n",
    "                # Forward pass only to get logits/output\n",
    "                outputs = model_gru(images)\n",
    "                \n",
    "                # Get predictions from the maximum value\n",
    "                _, predicted = torch.max(outputs.data, 1)\n",
    "                \n",
    "                # Total number of labels\n",
    "                total += labels.size(0)\n",
    "                \n",
    "                # Total correct predictions\n",
    "                if torch.cuda.is_available():\n",
    "                    correct += (predicted.cpu() == labels.cpu()).sum()\n",
    "                else:\n",
    "                    correct += (predicted == labels).sum()\n",
    "            \n",
    "            accuracy = 100 * correct / total\n",
    "            \n",
    "            # Print Loss\n",
    "            print('Iteration: {}. Loss: {}. Accuracy: {}'.format(iter, loss.item(), accuracy))"
   ]
  },
  {
   "cell_type": "markdown",
   "metadata": {},
   "source": [
    "As seen in the output of the code blocks the GRU exhibits markedly superior performance compared to the vanilla RNN. The RNN shows minimal improvement, hovering around 90% accuracy after 2500 iterations and only reaching 91% accuracy at 3000 iterations. In contrast, the GRU achieves 83% accuracy in just 1500 iterations and attains a substantially higher 96% accuracy by the 3000-iteration mark. Rerunning the Training showed many varying results because of the randomness the optimization process has. In general we can say, that the RNN always had a significant lower accuracy than the GRU model. This stark difference in both learning speed and final accuracy underscores the GRU's enhanced effectiveness in processing sequential data. To further enhance these implementations, one effective strategy could be to adopt a learning rate scheduler. This feature reduces the learning rate when improvements in accuracy become marginal, preventing overshooting during extended training periods. In PyTorch, this can be accomplished by instantiating [torch.optim.lr_scheduler.ReduceLROnPlateau](https://pytorch.org/docs/stable/generated/torch.optim.lr_scheduler.ReduceLROnPlateau.html).\n",
    "Another method to enhance accuracy is to incorporate batch normalization into the implementation. It has been widely demonstrated that batch normalization tends to improve accuracy, although the exact reasons for this remain debated. In PyTorch, batch normalization can be applied using [torch.nn.BatchNorm1d](https://pytorch.org/docs/stable/generated/torch.nn.BatchNorm1d.html)"
   ]
  },
  {
   "cell_type": "markdown",
   "metadata": {},
   "source": [
    "### Exercise 5: Convolutional Neural Networks (CNN)\n",
    "\n",
    "The CIFAR-10 dataset consists of 60000 32x32 colour images in 10 classes, with 6000 images per class.\n",
    "\n",
    "Download the dataset to your hard disk and extract the files. The data is provided as train-test split and the labels of the respective images are given by the name of the parent folder. Download the CIFAR10 dataset from  https://www.kaggle.com/datasets/swaroopkml/cifar10-pngs-in-folders?resource=download or from https://owncloud.csl.uni-bremen.de/s/9mNnmeA7esyEpnC. The corresponding paper of the CIFAR10 dataset: *\"Learning Multiple Layers of Features from Tiny Images\", Alex Krizhevsky, 2009*.\n",
    "\n",
    "Take the last 20 % of the images of each class and save them in a separate folder structure for validation, e.g.:  \n",
    "*\\user\\data\\cifar10\\validate\\airplane\\4001.png  \n",
    "\\user\\data\\cifar10\\validate\\airplane\\4002.png  \n",
    "...  \n",
    "\\user\\data\\cifar10\\validation\\bird\\4001.png  \n",
    "...*  \n",
    "This leads to the following datasplit for each class: 4,000/1,000/1,000 images for training/validation/testing respectively.\n",
    "\n",
    "\n",
    "```Important:``` change the directory path in the following code cell. <br>\n",
    "\n",
    "First, we will do our imports, load the data and define a custom dataset. **Read** the following code cell carefully, it is used to prepare the data for the exercise."
   ]
  },
  {
   "cell_type": "code",
   "execution_count": 8,
   "metadata": {},
   "outputs": [
    {
     "data": {
      "text/plain": [
       "[]"
      ]
     },
     "execution_count": 8,
     "metadata": {},
     "output_type": "execute_result"
    }
   ],
   "source": [
    "import os\n",
    "import re\n",
    "import shutil\n",
    "\n",
    "root_dir = \"/Users/lopaker/.keras/datasets/cifar10_split\"\n",
    "\n",
    "# Function to move the files in subfolders (written together with ChatGPT)\n",
    "def move_all_files(root_dir):\n",
    "    # Define the regex pattern\n",
    "    pattern = re.compile(r'^[4-5][0-9]{3}\\.png$')\n",
    "    \n",
    "    files_list = []\n",
    "    # Walk through the directory tree\n",
    "    for dirpath, dirnames, filenames in os.walk(root_dir):\n",
    "        for filename in filenames:\n",
    "            # Get the full path to the file\n",
    "            file_path = os.path.join(dirpath, filename)\n",
    "            \n",
    "            if pattern.match(filename):\n",
    "                files_list.append(file_path)\n",
    "                \n",
    "                destination_file = file_path.replace('/train/', '/validation/')\n",
    "                \n",
    "                # Create the destination directory if it does not exist\n",
    "                destination_dir = os.path.dirname(destination_file)\n",
    "                os.makedirs(destination_dir, exist_ok=True)\n",
    "                \n",
    "                if os.path.isfile(file_path):\n",
    "                    shutil.move(file_path, destination_file)\n",
    "                    print(f\"moved {file_path} to {destination_file}\")\n",
    "    return files_list\n",
    "\n",
    "move_all_files(root_dir)\n"
   ]
  },
  {
   "cell_type": "code",
   "execution_count": 37,
   "metadata": {},
   "outputs": [],
   "source": [
    "from torch.utils.data import Dataset, DataLoader\n",
    "\n",
    "root_dir = \"/Users/lopaker/.keras/datasets/\" ### Insert your path here!! We will change it back to our path for the corrections\n",
    "tr_dir = os.path.join(root_dir, 'cifar10_split', 'train')\n",
    "cv_dir = os.path.join(root_dir, 'cifar10_split', 'validate')  \n",
    "tt_dir = os.path.join(root_dir, 'cifar10_split', 'test')\n",
    "\n",
    "# Create datalist from directory for each subset\n",
    "tr_file_list = []\n",
    "cv_file_list = []\n",
    "tt_file_list = []\n",
    "\n",
    "\n",
    "# Load the training data\n",
    "for path, subdirs, files in os.walk(tr_dir):\n",
    "    for name in files:\n",
    "        file_dir = os.path.join(path, name)\n",
    "        label = path.split('/')[-1] # i changed this so it works on mac, i then realized, that this code is not even needed at all for grading. WOW...\n",
    "        tr_file_list.append(file_dir + ' ' + label)\n",
    "\n",
    "\n",
    "with open(os.path.join(root_dir, 'tr_data_list.txt'), 'w') as file:\n",
    "    for item in tr_file_list:\n",
    "        file.write(\"%s\\n\" % item)        \n",
    "        \n",
    "# Load the validation data\n",
    "for path, subdirs, files in os.walk(cv_dir):\n",
    "    for name in files:\n",
    "        file_dir = os.path.join(path, name)\n",
    "        label = path.split('\\\\')[-1]\n",
    "        cv_file_list.append(file_dir + ' ' + label)\n",
    "\n",
    "with open(os.path.join(root_dir, 'cv_data_list.txt'), 'w') as file:\n",
    "    for item in cv_file_list:\n",
    "        file.write(\"%s\\n\" % item)\n",
    "\n",
    "# Load the test data\n",
    "for path, subdirs, files in os.walk(tt_dir):\n",
    "    for name in files:\n",
    "        file_dir = os.path.join(path, name)\n",
    "        label = path.split('\\\\')[-1]\n",
    "        tt_file_list.append(file_dir + ' ' + label)\n",
    "\n",
    "with open(os.path.join(root_dir, 'tt_data_list.txt'), 'w') as file:\n",
    "    for item in tt_file_list:\n",
    "        file.write(\"%s\\n\" % item)\n",
    "\n",
    "#### Define custom dataset\n",
    "class cifar10Dataset(Dataset):\n",
    "    def __init__(self, data_list_path):\n",
    "        self.data_list_path = data_list_path\n",
    "        self.data_save_dirs = []            # Stores the save dirs for the images\n",
    "        self.labels = []\n",
    "        self.label_encoder = LabelEncoder() # Encodes strings to integers for classification\n",
    "        self._init_data()\n",
    "        \n",
    "    def __len__(self):                      # Get total number of dataset samples\n",
    "        return len(self.data_save_dirs)\n",
    "\n",
    "    def __getitem__(self, idx):             # Return an item\n",
    "        data = io.imread(self.data_save_dirs[idx]) # Load image from hard disk\n",
    "        lab = self.labels[idx]              # Load class label\n",
    "        data = data.reshape(3, 32, 32).astype('float32') # Change to channels first and cast to float32\n",
    "        data = data/255.0                   # Normalize input\n",
    "        #print(data.shape)\n",
    "        #plt.imshow(cv2.cvtColor(data.reshape(32, 32, 3), cv2.COLOR_BGR2RGB))\n",
    "        return data, lab\n",
    "        \n",
    "    def _init_data(self):                   # Initialize data\n",
    "        with open(self.data_list_path, 'r') as file:\n",
    "            data_list = file.readlines()    # Read file list         \n",
    "                \n",
    "        for d in data_list:\n",
    "            s, l = d.split(' ')             # Split into input and label\n",
    "            self.data_save_dirs.append(s)\n",
    "            self.labels.append(l.rstrip('\\n'))\n",
    "        \n",
    "        # Encode string labels to integers\n",
    "        self.label_encoder.fit(self.labels)\n",
    "        self.labels = self.label_encoder.transform(self.labels)"
   ]
  },
  {
   "cell_type": "markdown",
   "metadata": {},
   "source": [
    "#### a) Explaining the Model  (6 points)\n",
    "In the code cell below, a convolutional neural network is defined. **Answer the following questions concerning this model.** Each question related to a specific line of code. These are marked in the code cell. Try to answer short and precisely."
   ]
  },
  {
   "cell_type": "code",
   "execution_count": null,
   "metadata": {},
   "outputs": [],
   "source": [
    "import torch.nn as nn\n",
    "\n",
    "class myNetwork(nn.Module):\n",
    "    def __init__(self):\n",
    "        super(myNetwork, self).__init__()\n",
    "        self.conv1 = nn.Conv2d(3, 8, 5)                                    #1\n",
    "        self.conv2 = nn.Conv2d(8, 16, 5)\n",
    "        self.max1 = nn.MaxPool2d(kernel_size=2, stride=2)                  #2\n",
    "        self.max2 = nn.MaxPool2d(kernel_size=2, stride=2)\n",
    "        self.fc1 = nn.Linear(400, 120)\n",
    "        self.fc2 = nn.Linear(120, 84)\n",
    "        self.fc3 = nn.Linear(84, 10)                                       #3\n",
    "        \n",
    "    def forward(self, x):\n",
    "        x = self.conv1(x)\n",
    "        x = F.relu(x)                                                      #4\n",
    "        x = self.max1(x)\n",
    "        x = self.conv2(x)\n",
    "        x = F.relu(x)\n",
    "        x = self.max2(x)                                                   #5\n",
    "        x = x.view(-1, 400)                                                #6\n",
    "        x = self.fc1(x)\n",
    "        x = F.relu(x)\n",
    "        x = self.fc2(x)\n",
    "        x = F.relu(x)\n",
    "        x = self.fc3(x)\n",
    "        return x"
   ]
  },
  {
   "cell_type": "markdown",
   "metadata": {},
   "source": [
    "*Insert your answer here*\n",
    "\n",
    "I don't know what i should answer here... Is there a question?!"
   ]
  },
  {
   "cell_type": "markdown",
   "metadata": {},
   "source": [
    "i) For the first convolutional layer what is the kernel size and the number of kernels. How many trainable weights does this layer consist of? (1 point)"
   ]
  },
  {
   "cell_type": "markdown",
   "metadata": {},
   "source": [
    "As found [here](https://pytorch.org/docs/stable/generated/torch.nn.Conv2d.html) the 3 is the amount of input layers (typically rgb) and the output amount is 8 layers. The kernel_size is 5 which means we have a 5x5 kernel. We have 3 * 8 kernels = 24. You can calculate the amount of trainable weights by: 3 * 8 * 5 * 5 \n",
    "\n"
   ]
  },
  {
   "cell_type": "code",
   "execution_count": null,
   "metadata": {},
   "outputs": [
    {
     "name": "stdout",
     "output_type": "stream",
     "text": [
      "600\n"
     ]
    }
   ],
   "source": [
    "print(3*8*5*5) #600"
   ]
  },
  {
   "cell_type": "markdown",
   "metadata": {},
   "source": [
    "ii) In your own words: What is the purpose of the max pooling operation? (1 point)"
   ]
  },
  {
   "cell_type": "markdown",
   "metadata": {},
   "source": [
    "The input image is quite big and has a lot of information. Maxpooling quaters the size of the image by combining 2 x 2 (kernel_size) pixels and jumping 2 pixels per iteration (stride). Max Pooling compacts the information of the image which is necessary to have an realistic size for the fully connected layers later."
   ]
  },
  {
   "cell_type": "markdown",
   "metadata": {},
   "source": [
    "iii) We introduced the CIFAR-10 dataset before in the introduction of this exercise. What is the correct output size of the final linear layer and why? Add this number in the code cell by replacing ```??```. (1 point)"
   ]
  },
  {
   "cell_type": "markdown",
   "metadata": {},
   "source": [
    "The correct answer is 10. As the name already implies Cifar10 has 10 different classes that can be trained. So it is natural to have 10 output layers. Each output can be interpreted to be the likelyhood of that the given image is of this certain class:\n",
    "\n",
    "0. Airplane\n",
    "1. Automobile\n",
    "1. Bird\n",
    "1. Cat\n",
    "1. Deer\n",
    "1. Dog\n",
    "1. Frog\n",
    "1. Horse\n",
    "1. Ship\n",
    "1. Truck"
   ]
  },
  {
   "cell_type": "markdown",
   "metadata": {},
   "source": [
    "iv) What does this line of code do and why? (1 point)"
   ]
  },
  {
   "cell_type": "markdown",
   "metadata": {},
   "source": [
    "This is the Relu activation function. $\\text{ReLU}(x) = \\max(0, x)$. It is necessary to have a non linear activation function (like relu) so that our model can learn more than only linear combinations. Normally you also add a Batch Normalization layer for better training. In multi class problems (like ours) you normally add a \"Softmax\" activation function in the end to make the output interpretable as percentages between 0-1. Instead of Relu you can also use sigmoid or other non linear activation functions to make an efficient and useful CNN."
   ]
  },
  {
   "cell_type": "markdown",
   "metadata": {},
   "source": [
    "v) Consider the output volume of the last convolutional layer. Before further processing from the dense layers, the output volume gets processed by a max pooling layer. Based on the output volume shape, what is the shape of the output volume after the max pool operation? (1 point)"
   ]
  },
  {
   "cell_type": "markdown",
   "metadata": {},
   "source": [
    "We will describe the change of size of the tensor given the 32x32x3 input size\n",
    "32x32 (3 Layers)\n",
    "#### CONV1 (-4)\n",
    "28x28 (8 Layers)\n",
    "#### MAX1 (/2)\n",
    "14x14 (8 Layers)\n",
    "#### CONV2 (-4)\n",
    "10x10 (16 Layers)\n",
    "#### MAX2 (/2)\n",
    "5x5 (16 Layers) - This is the output after the Max Pooling\n",
    "\n"
   ]
  },
  {
   "cell_type": "markdown",
   "metadata": {},
   "source": [
    "vi) What does this line of code do and why? (1 point)"
   ]
  },
  {
   "cell_type": "markdown",
   "metadata": {},
   "source": [
    "#### X.view(-1,400)\n",
    "5 * 5 * 16 = 400\n",
    "\n",
    "The `x.view()` function reshapes x from a 3 dimensional (size 5x5x16) Tensor batch list into a 1 Dimensional (size 400) Vector Batch list\n",
    "\n",
    "This is necessary because fully connected layer can only process one dimensional tensors as input."
   ]
  },
  {
   "cell_type": "markdown",
   "metadata": {},
   "source": [
    "#### b) Model Training (2 points)\n",
    "\n",
    "Give a step by step description of the training loop for one batch in one epoch. Explicitly state at which point the model is modified. Do not use code and explain the necessity of each step. (Bullet points)"
   ]
  },
  {
   "cell_type": "markdown",
   "metadata": {},
   "source": [
    "1. **Initialization**: Random values are assigned to kernels and weights. - This is necessary so that the gradient is more reasonable. Depending on the learning process we can also have other initialization if wanted. Using the same seed makes the learning reproducible on different devices.\n",
    "\n",
    "Traverse through all epochs (for example 10)\n",
    "\n",
    "Traverse through the training data images in one batch (4000 training images in this example)\n",
    "\n",
    "2. **Forward Pass**: Input data is processed layer by layer, generating predictions. - This is necessary to calculate a prediction based on this the model can learn.\n",
    "   \n",
    "3. **Loss Calculation**: A loss function evaluates the disparity between predictions and actual data. - comparing the prediction with the given ground truth\n",
    "   \n",
    "4. **Gradient Computation**: Gradients, indicating both direction and magnitude to minimize the loss, are computed for each weight.\n",
    "- given on the loss we can calculate how much each weight is accountable for this loss.\n",
    "\n",
    "This whole process is called:\n",
    "1. **Backward Propagation**: Using these gradients and a hyper parameter learning rate, weights are adjusted iteratively to reduce the loss. - This step changes the weights and does the actual learning.\n",
    "   \n",
    "**Automatic Optimization**: Optimizers like Adam automate this process, dynamically adjusting the learning rate for efficient convergence. Using the validation data the learning rate and other hyper parameters can be changed dynamically.\n"
   ]
  },
  {
   "cell_type": "markdown",
   "metadata": {},
   "source": [
    "#### c) Calculate Convolution (1 point)\n",
    "\n",
    "Given the input A and the kernel K, calculate the two dimensional convolution result. Calculate the result only for fully overlapping positions (valid) between A and K (hence padding is not required). We define stride=1.\n",
    "\n",
    "![](portfolio_images/Matrix_A.png) &nbsp; &nbsp; &nbsp; &nbsp; &nbsp; &nbsp; &nbsp; &nbsp; &nbsp; &nbsp; ![](portfolio_images/Kernel_K.png)\n",
    "\n"
   ]
  },
  {
   "cell_type": "code",
   "execution_count": null,
   "metadata": {},
   "outputs": [
    {
     "name": "stdout",
     "output_type": "stream",
     "text": [
      "Input Matrix (4x4):\n",
      " [[2 0 1 1]\n",
      " [4 3 0 5]\n",
      " [2 1 3 3]\n",
      " [0 4 2 1]]\n",
      "\n",
      "Kernel (2x2):\n",
      " [[2 4]\n",
      " [1 0]]\n",
      "\n",
      "Output Matrix (Feature Map):\n",
      " [[ 8.  7.  6.]\n",
      " [22.  7. 23.]\n",
      " [ 8. 18. 20.]]\n"
     ]
    }
   ],
   "source": [
    "import numpy as np\n",
    "\n",
    "# Generated with ChatGPT\n",
    "\n",
    "# Define the 4x4 input matrix (image)\n",
    "input_matrix = np.array([\n",
    "    [2, 0, 1, 1],\n",
    "    [4, 3, 0, 5],\n",
    "    [2, 1, 3, 3],\n",
    "    [0, 4, 2, 1]\n",
    "])\n",
    "\n",
    "# Define the 2x2 kernel (filter)\n",
    "kernel = np.array([\n",
    "    [2, 4],\n",
    "    [1, 0]\n",
    "])\n",
    "\n",
    "# Get dimensions of input matrix and kernel\n",
    "input_height, input_width = input_matrix.shape\n",
    "kernel_height, kernel_width = kernel.shape\n",
    "\n",
    "# Calculate output dimensions\n",
    "output_height = input_height - kernel_height + 1\n",
    "output_width = input_width - kernel_width + 1\n",
    "\n",
    "# Initialize the output matrix (feature map)\n",
    "output_matrix = np.zeros((output_height, output_width))\n",
    "\n",
    "# Perform the convolution operation manually\n",
    "for i in range(output_height):\n",
    "    for j in range(output_width):\n",
    "        output_matrix[i, j] = np.sum(input_matrix[i:i+kernel_height, j:j+kernel_width] * kernel)\n",
    "\n",
    "# Print the input matrix, kernel, and output matrix (feature map)\n",
    "print(\"Input Matrix (4x4):\\n\", input_matrix)\n",
    "print(\"\\nKernel (2x2):\\n\", kernel)\n",
    "print(\"\\nOutput Matrix (Feature Map):\\n\", output_matrix)"
   ]
  },
  {
   "cell_type": "markdown",
   "metadata": {},
   "source": [
    "\n",
    "| 8 | 7 | 6 |\n",
    "| - | - | - |\n",
    "| 22 | 7 | 23 |\n",
    "| 8 | 18 | 20 |\n",
    "\n"
   ]
  },
  {
   "cell_type": "markdown",
   "metadata": {},
   "source": [
    "####  d) Receptive Field (2 points)"
   ]
  },
  {
   "cell_type": "markdown",
   "metadata": {},
   "source": [
    "i) Explain the concept of the receptive field of CNNs and why this is an important consideration when designing the model architecture. (1 point)"
   ]
  },
  {
   "cell_type": "markdown",
   "metadata": {},
   "source": [
    "As already described in the tasks above, max pooling layers reduce the size of the input image. Convolution layers also can change the size of the image depending on the choosen padding. The receptive field describes the data one pixel is sensitive to. So if you for example want to train a heatmap the receptive field is the amount of input pixel which could change the ouput of this given pixel. You could describe the receptive field as the amount of surrounding data(pixels) which is effecting the outcome of one given data point (pixel). For example A big receptive field make it possible to detect larger objects on a picture."
   ]
  },
  {
   "cell_type": "markdown",
   "metadata": {},
   "source": [
    "ii) Calculate the exact size of the receptive field of the myNetwork class defined above (ignoring fully connected layers). Explain the calculation and make clear what the result is. (1 point)"
   ]
  },
  {
   "cell_type": "markdown",
   "metadata": {},
   "source": [
    "Similar to the calculations done above you can +4 for each 5x5 kernel and *2 for each 2x2 max pooling layer. But instead of starting from the input we start from the output (1) pixel and go backward.\n",
    "\n",
    "\n",
    "1\n",
    "#### MAX2 (*2)\n",
    "2\n",
    "#### CONV2 (+4)\n",
    "6\n",
    "#### MAX1 (*2)\n",
    "12\n",
    "#### CONV1 (+4)\n",
    "16\n",
    "\n",
    "So each output pixel is being affected by a 16x16 pixel input areas, the receptive field is 196 pixels "
   ]
  },
  {
   "cell_type": "markdown",
   "metadata": {},
   "source": [
    "### Exercise 6: Generative Models"
   ]
  },
  {
   "cell_type": "markdown",
   "metadata": {},
   "source": [
    "#### a) Variational Autoencoders"
   ]
  },
  {
   "cell_type": "markdown",
   "metadata": {},
   "source": [
    "**1. Explain the principle of Maximum Likelihood (ML) for training Variational Autoencoders (VAEs) Why can we not optimize VAEs with the exact likelihood, but use an approximation instead ?**  (2 points)"
   ]
  },
  {
   "cell_type": "markdown",
   "metadata": {},
   "source": [
    "The principle of Maximum Likelihood Estimation (MLE) involves fitting a parameterized distribution to a dataset by maximizing the likelihood of the observed samples. When training a Variational Autoencoder (VAE), the goal is to maximize the likelihood of the dataset distribution $p(x)$, given the parameterized distribution of the decoder network output $p_\\theta(x|z)$: \n",
    "$$\\Theta_* = argmax_\\Theta P( \\ p(x) \\ | \\ p_\\Theta(x|z) \\ )$$\n",
    "\n",
    "\n",
    "The marginal likelihood $p_\\Theta(x)$, represents the likelihood of the data x under the model parameter $\\Theta_*$ It is obtained by integrating over the latent variable z:\n",
    "$$p_\\Theta(x) = \\int p_\\Theta(x|z)p_\\Theta(z) dz$$\n",
    "\n",
    "Calculating the marginal likelihood involves evaluating $p_\\Theta(x|z)$ for every possible z, which is impractical to do directly. Therefore, an approximation method is necessary."
   ]
  },
  {
   "cell_type": "markdown",
   "metadata": {},
   "source": [
    "**2. Describe the Evidence Lower Bound (ELBO) for training variational autoencoders, what are the main components of the ELBO loss, and how are those components implemented in practice?** Note: You do not have to show the complete derivation of the loss for the ML approximation here for full points.  (2 points)"
   ]
  },
  {
   "cell_type": "markdown",
   "metadata": {},
   "source": [
    "ELBO provides a tractable lower bound on the log-likelihood of the observed data, which we aim to maximize during training. The ELBO is defined as:\n",
    "$$L(\\phi, \\theta; x) := \\mathbb{E}{z \\sim q\\phi(\\cdot|x)}\\left[\\log \\frac{p_\\theta(x,z)}{q_\\phi(z|x)}\\right]$$\n",
    "Where:\n",
    "\n",
    "- $x$ is the observed data\n",
    "- $z$ is the latent variable\n",
    "- $p_\\theta(x,z)$ is the joint distribution\n",
    "- $q_\\phi(z|x)$ is the approximate posterior distribution\n",
    "\n",
    "The ELBO can be equivalently expressed as:\n",
    "$$L(\\phi, \\theta; x) = \\mathbb{E}{q\\phi(z|x)}[\\log p_\\theta(x|z)] - D_{KL}(q_\\phi(z|x) || p_\\theta(z))$$\n",
    "This formulation reveals two main components:\n",
    "\n",
    "- Reconstruction Term: $\\mathbb{E}{q\\phi(z|x)}[\\log p_\\theta(x|z)]$\n",
    "This term measures how well the model reconstructs the input data given latent samples. In practice, it's often implemented as Mean Squared Error (MSE) for continuous data or Binary Cross-Entropy (BCE) for binary data.\n",
    "- KL Divergence Term: $-D_{KL}(q_\\phi(z|x) || p_\\theta(z))$\n",
    "This term encourages the approximate posterior $q_\\phi(z|x)$ to be close to the prior $p_\\theta(z)$. For Gaussian distributions (commonly used in VAEs), this has a closed-form solution.\n",
    "\n",
    "By definition the ELBO forms a lower bound on the evidence (log-likelihood):\n",
    "$$\\ln p_\\theta(x) \\geq \\mathbb{E}{z \\sim q\\phi(\\cdot|x)}\\left[\\log \\frac{p_\\theta(x,z)}{q_\\phi(z|x)}\\right]$$\n",
    "Where $\\log p_\\theta(x)$ is called the evidence for $x$.\n",
    "In practice, we maximize the ELBO, which is equivalent to minimizing the negative ELBO:\n",
    "$$\\mathcal{L}(\\theta, \\phi; x) = -\\text{ELBO}(\\theta, \\phi; x)$$"
   ]
  },
  {
   "cell_type": "markdown",
   "metadata": {},
   "source": [
    "#### b) Generative Adversarial Networks"
   ]
  },
  {
   "cell_type": "markdown",
   "metadata": {},
   "source": [
    "**1. Breifly explain main principle of generative Adversarial networks (GANs).**  (1 point)"
   ]
  },
  {
   "cell_type": "markdown",
   "metadata": {},
   "source": [
    "Generative Adversarial Networks (GANs) are comprised of two neural networks engaged in a competitive game:\n",
    "\n",
    "- Generator Network: Creates synthetic data (like images) from random noise. Its goal is to produce realistic data that resembles the real dataset.\n",
    "\n",
    "- Discriminator Network: Acts as a detector. It distinguishes between real data from the dataset and fake data generated by the Generator.\n",
    "\n",
    "During training:\n",
    "\n",
    "- The Generator aims to fool the Discriminator by generating increasingly realistic data.\n",
    "\n",
    "- The Discriminator aims to accurately classify whether data is real or fake.\n",
    "\n",
    "This adversarial process leads to both networks improving until the Generator produces high-quality synthetic data that is difficult for the Discriminator to differentiate from real data."
   ]
  },
  {
   "cell_type": "markdown",
   "metadata": {},
   "source": [
    "**2. Mention and briefly explain at least 3 possible pit falls can occur during GAN training.**  (2 points)"
   ]
  },
  {
   "cell_type": "markdown",
   "metadata": {},
   "source": [
    "- Training Instability: GANs can exhibit unstable training dynamics, fluctuations in the performance metrics of both the Generator and Discriminator, this often manifests as oscillating or diverging loss functions, making it challenging to achieve convergence.\n",
    "\n",
    "- Model Collapse: This occurs when the Generator produces limited varieties of outputs that consistently fool the Discriminator. As a result, the Generator fails to explore the full diversity of the dataset, leading to repetitive or low-quality generated samples.\n",
    "\n",
    "- Discriminator Dominance: If the Discriminator becomes too effective at distinguishing real from fake samples early in training, it can provide gradients to the Generator that are uninformative or weak (vanishing gradients). This hinders the Generator from learning effectively and improving its output quality."
   ]
  },
  {
   "cell_type": "markdown",
   "metadata": {},
   "source": [
    "#### c) (Stable) Diffusion Models"
   ]
  },
  {
   "cell_type": "markdown",
   "metadata": {},
   "source": [
    "**1. We discussed about Diffusion models in the lecture, briefly explain the key difference between Diffusion Models and VAEs.**  (1 points)"
   ]
  },
  {
   "cell_type": "markdown",
   "metadata": {},
   "source": [
    "VAEs are structured around learning and using a latent space for data representation and generation, whereas Diffusion Models focus on transforming data towards desired distributions using iterative noise addition, without the need for a predefined latent space."
   ]
  },
  {
   "cell_type": "markdown",
   "metadata": {},
   "source": [
    "**2) What are main diferences or improvements made with Stable Diffusion models compared to pure Diffusion models?** (2 points)"
   ]
  },
  {
   "cell_type": "markdown",
   "metadata": {},
   "source": [
    "- Diffusion in Lower Dimensional Latent Space: To enhance efficiency, Stable Diffusion models first downsample the input data into a latent space using an encoder. This latent space undergoes the diffusion process to remove noise, and then a decoder upsamples the denoised latent variables back into the original sample space.\n",
    "\n",
    "- Conditional Generation: Stable Diffusion models incorporate conditional generation capabilities. They utilize extra input, often referred to as conditions, which are processed by an additional network. These conditions guide the denoising process throughout the model, enabling controlled and targeted noise reduction."
   ]
  },
  {
   "cell_type": "markdown",
   "metadata": {},
   "source": [
    "**3) According to the orginal Stable Diffusion models paper, brieffly explain how does the conditioning with various modalaties like text or images mapped to the intermediate layers of the UNet ?**  (2 points)"
   ]
  },
  {
   "cell_type": "markdown",
   "metadata": {},
   "source": [
    "According to the original Stable Diffusion paper, the process works as follows:\n",
    "\n",
    "The denoising part of the model is a conditional denoising autoencoder which is augmented with a cross-attention mechanism in each layer.\n",
    "The cross-attention mechanism is defined as:\n",
    "$$\\text{Attention}(Q, K, V) = \\text{softmax} \\left(\\frac{QK^T}{\\sqrt{d}}\\right) \\cdot V$$\n",
    "The query (Q), key (K), and value (V) matrices are computed as follows:\n",
    "$$Q = W_Q^{(i)} \\cdot \\varphi_i(z_t)$$\n",
    "$$K = W_K^{(i)} \\cdot \\tau_\\theta(y)$$\n",
    "$$V = W_V^{(i)} \\cdot \\tau_\\theta(y)$$\n",
    "Where:\n",
    "\n",
    "$\\varphi_i(z_t)$ is a flattened intermediate representation of the noisy image at timestep $t$\n",
    "$\\tau_\\theta(y)$ is an intermediate representation of the conditioning input $y$\n",
    "$W_Q^{(i)}$, $W_K^{(i)}$, and $W_V^{(i)}$ are learnable weight matrices for layer $i$\n",
    "\n",
    "\n",
    "The domain-specific encoder network $\\tau_\\theta$ maps the conditioning modalities $y$ (such as text or images) to an intermediate representation $\\tau_\\theta(y)$. This cross-attention mechanism enables the UNet to effectively incorporate the conditioning information at multiple scales and stages of the denoising process, allowing for fine-grained control over the generated images."
   ]
  },
  {
   "cell_type": "markdown",
   "metadata": {},
   "source": [
    "### Exercise 7: Transformers"
   ]
  },
  {
   "cell_type": "markdown",
   "metadata": {},
   "source": [
    "Compare VisualBERT: A Simple and Performant Baseline for Vision and Language by Liunian Harold Li, Mark Yatskar, Da Yin, Cho-Jui Hsieh, Kai-Wei Chang (https://arxiv.org/pdf/1908.03557.pdf) and SAM: Segment Anything by Alexander Kirillov, Eric Mintun, Nikhila Ravi, Hanzi Mao, Chloe Rolland, Laura Gustafson, Tete Xiao, Spencer Whitehead, Alexander C. Berg, Wan-Yen Lo, Piotr Dollár, Ross Girshick (https://arxiv.org/pdf/2304.02643.pdf).Try to answer short and precise. \n",
    "\n",
    "a) Compare the basic architecture, loss functions used in these models, with short explaination of purpose of each block in architecture mentioned in the papers. (2 points) <br> "
   ]
  },
  {
   "cell_type": "markdown",
   "metadata": {},
   "source": [
    "### SAM\n",
    "\n",
    "SAM stands for \"segment anything model\" and is therefore a segmentation model to segment given images into its parts. Part of the SAM research is also the generation of a new, diverse and wholesome dataset used for segmentation training. (This dataset will not be described in more detail in this task). SAM consists of three parts: prompt encoder, image decoder and a mask decoder.\n",
    "\n",
    "![overview sam](./sam-overview.png)\n",
    "\n",
    "#### prompt encoder\n",
    "\n",
    "The prompt consists of points, boxes and areas as well as text prompts which are used to describe which segments should be selected. On the [demo page](https://segment-anything.com/demo) this can be seen quite nicely.\n",
    "\n",
    "#### image encoder\n",
    "\n",
    "The image encoding is a typical pretrained MAE Vision Transformer (ViT) used for encoding the image into a latent space. This has to be done once per image and is more resource intensive than the prompt encoding and mask decoding. In the given demo the image encoder is run only once per image shown and then used again for further user interaction.\n",
    "\n",
    "#### mask decoder\n",
    "\n",
    "the mask decoder combines the encoded prompt as well as the encoded image and combines it into a segmentation map. it is very lightweight and can run efficiently in a browser.\n",
    "\n",
    "#### Training and loss\n",
    "\n",
    "The SAM uses three different kind of losses for training:\n",
    "\n",
    "focal and dice loss with a ratio 20:1 is used to train the mask prediction. \n",
    "In segmentation tasks like this one cross entropy can be overwhelmed, because the amount of background pixel is way higher than foreground pixels. \n",
    "\n",
    "$\\text{Focal Loss} = -\\alpha_t (1 - p_t)^\\gamma \\log(p_t)$\n",
    "where:\n",
    "* $p_t$ is the predicted probability for the foreground class.\n",
    "* $\\alpha_t$ is a balancing factor for the class (used to balance the importance of foreground vs. background examples).\n",
    "* $\\gamma$ (gamma) is the focusing parameter\n",
    "\n",
    "$\\text{Dice Loss} = 1 - \\frac{2 |P \\cap G|}{|P| + |G|}$\n",
    "where:\n",
    "* $P$ represents the predicted mask.\n",
    "* $G$ represents the ground truth mask.\n",
    "*  $|P \\cap G|$ is the intersection between the prediction and the ground truth.\n",
    "*  $|P|$ and $|G|$ are the cardinalities (sizes) of the predicted and ground truth masks, respectively.\n",
    "\n",
    "To train the IoU prediction head the Mean-Squared-Error is used to train the IoU. (Page 17)\n",
    "\n",
    "### VisualBERT\n",
    "\n",
    "Visual Bert is a Transformer model. It combines text inputs as well as segmented image input and uses Transformers including self-attention blocks to associate both with each other. It is pretrained using masked language modelling and a sentence-image prediction task.\n",
    "\n",
    "An summary of the VisualBERT architecture can be found in the following image.\n",
    "\n",
    "![overview bert](./visualBert-overview.png)\n",
    "\n",
    "#### Text input (seen on the left)\n",
    "each text input consists of 3 parts:\n",
    "\n",
    "* a token embedding\n",
    "* a segment embedding\n",
    "* a position embedding\n",
    "\n",
    "all of these inputs are passed through a multi-layer Transformer to builds up a contextualized representation of the subwords.\n",
    "\n",
    "#### image input (seen on the right)\n",
    "\n",
    "The image input of visualBert consist of the following blocks:\n",
    "\n",
    "* a visual feature representation - generated by a CNN (for example RCNN)\n",
    "* a segment embedding indicating it is an image embedding as opposed to a text embedding\n",
    "* a position embedding (location of the bounding box)\n",
    "\n",
    "#### Training and loss\n",
    "\n",
    "For training VisualBERT \"a [MASK] token is appended after the question\n",
    "and the representation of the [MASK] token is fed into an output layer for classification. Since there\n",
    "could be multiple correct answers to one question, we assign each correct answer with the same\n",
    "probability and minimize the cross entropy between the target probability and the output probability\n",
    "from the model\" (VISUALBERT: A SIMPLE AND PERFORMANT\n",
    "BASELINE FOR VISION AND LANGUAGE - Page 13)\n",
    "\n",
    "As shown by the quote above the cross entropy loss is used for training the model using masking.\n"
   ]
  },
  {
   "cell_type": "markdown",
   "metadata": {},
   "source": [
    "b) Can VisualBERT be used for the same application as in SAM (even if partially used). Explain How or why not? (3 points)"
   ]
  },
  {
   "cell_type": "markdown",
   "metadata": {},
   "source": [
    "As the paper about VisualBERT describes it can be used for Visual Question Answering (VQA 2.0), Visual Commonsense Reasoning\n",
    "(VCR), Natural Language for Visual Reasoning (NLVR2) and  Region-to-Phrase Grounding (Flickr30K). SAM is a Segmentation model, its output is an image(segmentation map). VisualBERT has an text output. \n",
    "As shown in the images above both models take a text and an image as input. Both of them are being encoded into a latent space. But this latent space is very different: SAM uses an Visual Transformer and VisualBERT uses an CNN (RCNN) to encode the image. The encoders of VisualBERT makes more sense of the semantic and positional information visualized  on the image. The encoder looses its details and pixel-level information because a RCNN only outputs a label and a region. The ViT of SAM on the other hand keeps more pixel-level information which is later passed to the decoder.\n",
    "\n",
    "![sam decoder](./sam-decoder.png)\n",
    "\n",
    " SAMs decoder consist of a 2 Layer Transformer and MLP to generate a 256x256 image which is up scaled 4x using a CNN to its original size. Even though VisualBERT is using a transformer too it is not dedicated to be used as an image(segmentation map) the dimensions of the tensors are different to the needed sizes in the SAM decoder. \n",
    "\n",
    " The LOSS functions are also completely incompatible. One is optimized for training a text model using MASKS and the other a segmentation map using Focus \n",
    "\n",
    " Of course the transformer of VisualBERT can be changed and the encoder too, but then nothing would remain of the original VisualBERT. We conclude, that VisualBERT can not be used for segmentation not even partially.\n",
    "\n"
   ]
  },
  {
   "cell_type": "markdown",
   "metadata": {},
   "source": [
    "c) Mention the drawbacks (at least three) of a transformer model w.r.t. VisualBERT. (3 points)\n"
   ]
  },
  {
   "cell_type": "markdown",
   "metadata": {},
   "source": [
    "It is kind of hard to describe drawbacks of Transformer models because there are so many new types in the past years which fix a few of the given drawbacks. That is why i will focus on the transformer used in VisualBERT which was introduced in 2019.\n",
    "\n",
    "### High power consumption and computational usage\n",
    "\n",
    "Transformer models are very general models. Transformers can run anything from image classification to natural language processing. This generalization is a big advantage but also leads to some inefficiencies. Transformer models tend to have high resource demand and therefore a high power consumption. To run VisualBERT it is necessary to have a dedicated GPU with Tensor core to run it at a decent token/sec speed.\n",
    "\n",
    "\n",
    "### High memory and training need\n",
    "\n",
    "Transformer model have many parameters which can be trained. Training so many parameters requires a high amount of training data. VisualBERT for example trains on the very big COCO dataset. Having so many parameters require a lots of memory to store the parameters during inference. This problem of high memory usage can partially be fixed using a technique called quantization. In a LLM for example it is typical to reduce the size of the individual weights. In a Q5 model for example the size of the float values of the weights are reduced to 5 bits. A Q4 model uses only 4 bits, which leads to a smaller model size. Using quantization is always a tradeoff between accuracy and model size. Newer models tend to perform well enough on q4 quantization. This is why Q4 models are the quasi standard in the community running LLMs. \n",
    "\n",
    "### Problem with long sequences\n",
    "\n",
    "Transformer models have a self-attention block. The complexity grows quadratically based on the input length. Transformer models in general tend to perform badly on longer context length. Using VisualBERT this means, that having lengthy texts describing a prompt, VisualBERT can loose coherency as well as context accuracy with increasing sequence size. "
   ]
  },
  {
   "cell_type": "markdown",
   "metadata": {},
   "source": [
    "d) Mention any other model that can overcome the drawback(s) found in c. Explain how? The model could be from any other research paper or own ideas. (Provide the proper citation of the research paper.) (2 points)"
   ]
  },
  {
   "cell_type": "markdown",
   "metadata": {},
   "source": [
    "VisualBERT is a paper from 2019, which is a very old model in this very fast growing area of Machine Learning and Artificial Intelligence as well as image processing. You can see that when comparing SAM (using ViTs) and VisualBERT (using CNNs) for encoding the image data.\n",
    "\n",
    "A very prominent paper to show the efficient usage of transformers even on image data which was dominated by CNNs is the [An Image is Worth 16x16 Words: Transformers for Image Recognition at Scale (2021) - Alexey Dosovitskiy et al.](https://arxiv.org/abs/2010.11929) paper. This paper describes how a typical Transformer setup using self-attention and a MLP layer can be used for classification. ViT splits images into fixed-size patches (e.g., 16x16 pixels), flattens these patches, and linearly embeds them into sequences of vectors. The architecture closely follows the standard transformer model used in NLP, with minimal modifications. It partly fixes the problem of Transformers struggeling with long input sequences by encoding 16x16 patches of the image into a latent space.\n",
    "\n",
    "The paper about CLIP [Learning Transferable Visual Models From Natural Language Supervision (2021) - Alec Radford et al.](https://arxiv.org/abs/2103.00020) is also mentioned in the introduction of the SAM paper. The paper introduces a method for training visual models using natural language supervision through contrastive learning.\n",
    "This approach aligns images with their corresponding text descriptions, allowing the model to learn from large-scale, unannotated datasets from the internet. The problem of large required datasets can be solved using this method. CLIP is very general and . It can be used therefor be used in zero-shot tasks performing good in various visual tasks without task-specific training nor finetuning needed. The general overview can be seen in the image of the paper:\n",
    "\n",
    "![clip overview](./clip-overview.png)\n",
    "\n"
   ]
  },
  {
   "cell_type": "markdown",
   "metadata": {},
   "source": [
    "### Exercise 8: Reinforcement Learning"
   ]
  },
  {
   "cell_type": "markdown",
   "metadata": {},
   "source": [
    "You develop a chat bot which uses a customizable large language model to generate its output. The chatbot is designed to give advice on travel arrangements. After every session, the users give a star rating of the overall interaction. In every step of a conversation, the history of the conversation (as text) as well as a vector (containing nominal values for specific aspects, such as language complexity, tone, chattiness, ...) customizing the speaking style of the chatbot are used. For every user, there exists a user profile which gets updated over the course of the interaction. For this purpose, a user profiler model receives features from the text input during the conversation and a video camera stream of the user and predicts a vector of user attributes such as gender, age, emotional state, level of attention, etc. The LLM and the user profiler are pre-trained and should be considered fixed. You now should include a Reinforcement Learning module which yields the customization vector for a given (history of) user attribute vectors. \n"
   ]
  },
  {
   "cell_type": "markdown",
   "metadata": {},
   "source": [
    "a) Draw a diagram which illustrates the planned system, with boxes denoting the relevant components and agents in the scenario and annotated arrows showing the data flow between the components/agents. (3 points) "
   ]
  },
  {
   "cell_type": "markdown",
   "metadata": {},
   "source": [
    "![RL_System](Chatbot_RL_System.jpg)"
   ]
  },
  {
   "cell_type": "markdown",
   "metadata": {},
   "source": [
    "b) Reflect on why or why not it makes sense to frame this task as a Reinforcement Learning problem. What alternative do you see? Compare the advantages and disadvantages! (3 points)"
   ]
  },
  {
   "cell_type": "markdown",
   "metadata": {},
   "source": [
    "The interaction between a user and a chatbot is dynamic, with responses from both sides influencing each other in unpredictable ways. External factors can also affect the user's attributes, such as their emotional state or level of attention. Reinforcement learning (RL) is well-suited to handle this kind of problem because it allows the agent to learn and make decisions that maximize long-term rewards through repeated interactions with its environment.\n",
    "\n",
    "However, the learning process involves making many mistakes before finding an optimal policy for each user. This experimentation can lead to unpredictable and sometimes undesirable behavior. There's a risk that users might stop using the chatbot before it performs well or that the model might exhibit harmful or toxic behavior. This risk can be mitigated by good pretraining and thorough testing.\n",
    "\n",
    "An alternative approach is to use a rule-based system with adaptive elements. This system would start with a predefined set of rules for chatbot behavior, which would be adjusted over time based on user interactions and feedback. The rules could cover various aspects of conversation, such as tone, topic selection, and response length. While this might make the application less flexible during individual conversations, it could provide more consistency and predictability across sessions. The rule set could be periodically updated based on aggregated user data, allowing for gradual improvement without the unpredictability of real-time learning. This approach would also make it easier to enforce specific guidelines or constraints on the chatbot's behavior, ensuring a more controlled user experience."
   ]
  },
  {
   "cell_type": "markdown",
   "metadata": {},
   "source": [
    "c) Make suggestions for the reward function, the state space, and the action space of the Reinforcement Learning agent that learns to predict the customization vector. (3 points)"
   ]
  },
  {
   "cell_type": "markdown",
   "metadata": {},
   "source": [
    "Reward Function\n",
    "\n",
    "\n",
    "User Satisfaction: derived from the user's star rating given at the end of each session, reflecting the quality of interaction and the user's overall satisfaction with the travel assistant's performance.\n",
    "\n",
    "Sentiment Analysis: sentiment analysis of user conversation and images provides valuable feedback on user sentiment throughout this considers not just the final rating but also the emotional tone conveyed during the session.\n",
    "\n",
    "The possible reward function \\( R(s, a) \\) could be defined as:\n",
    "\n",
    "$$\n",
    "R(s, a) = \\alpha \\times \\text{satisfaction\\_score}(s, a) + \\beta \\times \\text{sentiment\\_score}(s, a)\n",
    "$$\n",
    "\n",
    "where:\n",
    "- \\( $\\alpha$ \\), it's a hyperparameter, scaling factor for the user satisfaction score.\n",
    "- \\( satisfaction\\_score \\) reflects the user's overall satisfaction, primarily based on the star rating provided at the end of the session.\n",
    "- \\( $\\beta$ \\) it's a hyperparameter, is a scaling factor for the sentiment analysis score.\n",
    "- \\( sentiment\\_score \\) reflects the sentiment analysis of the user throughout the interaction, positive sentiments should yield higher sentiment score.\n",
    "\n",
    "\n",
    "State Space \\( S \\):\n",
    "\n",
    "$$\n",
    "s \\in S \\in \\mathbb{R}^n\n",
    "$$\n",
    "\n",
    "where \\( s \\) denotes a specific state, and \\( S \\) encompasses all user attributes (such as gender, age, emotional state, level of attention, etc.) provided by the profiler as well as the start rating status/value. \\( n \\) represents the total number of attributes.\n",
    "\n",
    "Action Space \\( A \\):\n",
    "\n",
    "$$\n",
    "a \\in A \\in \\mathbb{R}^m\n",
    "$$\n",
    "\n",
    "where \\( a \\) denotes an action, and \\( A \\) covers potential customization attributes for the chatbot (e.g., language complexity, tone, responsiveness, chattiness, etc.). \\( m \\) represents the count of customization attributes available for adjustment.\n"
   ]
  },
  {
   "cell_type": "markdown",
   "metadata": {},
   "source": [
    "d) Do you consider this a deterministic RL problem? Why (not)? (1 point)"
   ]
  },
  {
   "cell_type": "markdown",
   "metadata": {},
   "source": [
    "This is not a deterministic RL problem because user interactions are highly variable and influenced by numerous unpredictable factors such as mood, context, and external influences. The chatbot operates in a non-deterministic environment where the same action can lead to different outcomes depending on the user's current state. Additionally, the rewards are stochastic, as different users might give different ratings for the same behavior, and even the same user might rate similar interactions differently over time. This unpredictability makes the problem stochastic rather than deterministic."
   ]
  },
  {
   "cell_type": "markdown",
   "metadata": {},
   "source": [
    "### Exercise 9: Explainable AI"
   ]
  },
  {
   "cell_type": "markdown",
   "metadata": {},
   "source": [
    "Read this paper on \"Natural Adversarial Examples\": https://openaccess.thecvf.com/content/CVPR2021/papers/Hendrycks_Natural_Adversarial_Examples_CVPR_2021_paper.pdf"
   ]
  },
  {
   "cell_type": "markdown",
   "metadata": {},
   "source": [
    "a) Argue in what sense the images in this paper can be considered \"adversarial\". Use literature references (e.g., for definitions) to back up your arguments. (1 point)"
   ]
  },
  {
   "cell_type": "markdown",
   "metadata": {},
   "source": [
    "- Definition Expansion: \"adversarial examples—inputs formed by applying small but intentionally worst-case perturbations to examples from the dataset, such that the perturbed input results in the model outputting an incorrect answer with high confidence\"[1]. While traditional adversarial examples are artificially created to fool models, this paper introduces \"natural adversarial examples\" - real-world images that inherently cause model errors [2].\n",
    "- Performance Impact: These natural images significantly degrade model performance. For instance, ImageNet models perform with around 2% accuracy on these datasets, representing an approximate 90% drop in accuracy [2].\n",
    "- Intentional Selection: Though not artificially manipulated, these images are deliberately chosen for their ability to induce errors, mirroring the intent behind traditional adversarial examples.\n",
    "- Model Weakness Exposure: These examples reveal fundamental flaws in current vision models, challenging their robustness and generalization capabilities.\n",
    "- Transferability: Like traditional adversarial examples, these natural ones tend to fool multiple models, indicating systemic weaknesses [2].\n",
    "\n",
    "[1] Goodfellow, I. J., et al. (2014). Explaining and harnessing adversarial examples. arXiv:1412.6572.\n",
    "[2] Hendrycks, D., et al. (2021). Natural adversarial examples. CVPR 2021, 15262-15271."
   ]
  },
  {
   "cell_type": "markdown",
   "metadata": {},
   "source": [
    "b) The authors publicly release their data sets adversarial examples. What are the benefits of such a decision? Do you also see drawbacks? What countermeasures could mitigate such drawbacks? (2 points)\n"
   ]
  },
  {
   "cell_type": "markdown",
   "metadata": {},
   "source": [
    "- Exposing Weaknesses:\n",
    "    These datasets reveal the vulnerabilities in models, biases in their behavior. This exposure is critical for understanding and addressing the flaws in AI systems.\n",
    "\n",
    "- Promoting Fairness:\n",
    "    By highlighting these issues, discussions can be initiated on how to steer models towards fairer behavior, ensuring they do not perpetuate biases. This transparency is crucial for developing equitable AI systems.\n",
    "\n",
    "- Accountability and Standards:\n",
    "    Public datasets enable the demand for accountability and the implementation of minimum standards in commercially available technology. This helps ensure that AI products meet ethical and performance benchmarks.\n",
    "\n",
    "- Improving Practices:\n",
    "    These datasets can inform better data collection practices and model metric analysis. By identifying vulnerabilities, they help in enhancing resilience to adversarial inputs, thus improving the overall reliability and accuracy of future AI models.\n",
    "\n",
    "However, while guidelines and ethical standards are essential for promoting responsible research practices, they alone may not be enough to deter determined attackers who exploit these vulnerabilities. Effective legal frameworks and consequences for misuse must be implemented, with robust enforcement and international cooperation often necessary to ensure security and trust in AI systems."
   ]
  },
  {
   "cell_type": "markdown",
   "metadata": {},
   "source": [
    "c) Pick one image from the data sets compiled in the paper and use the LRP demo on https://lrpserver.hhi.fraunhofer.de/image-classification to classify the image and retrieve an explanation. What conclucions can you draw from the LRP explanations? Provide screenshots and explanations that allow the reproduction of your observations. Chose a picture purposefully which allows you to obtain and incorrect classification output, following the strategy of leveraging natural adeversarial examples. (3 points)\n",
    "\n"
   ]
  },
  {
   "cell_type": "markdown",
   "metadata": {},
   "source": [
    "![adversarial_example](Adversarial_Example.png)\n",
    "\n",
    "- The model has wrongly classified a \"Dragonfly\" as a \"Fox Squirrel\".\n",
    "\n",
    "- The LRP heatmap has generated a pattern that the model interprets as animal features (head, feet, body, tail) where none actually exist.\n",
    "This misinterpretation leads to the incorrect classification of a fox squirrel, with platypus as a secondary option.\n",
    "\n",
    "- The heatmap's concentration of relevance doesn't correspond to actual dragonfly features.\n",
    "It's unclear why the heatmap generates these specific patterns for a dragonfly image."
   ]
  },
  {
   "cell_type": "markdown",
   "metadata": {},
   "source": [
    "d) In the lecture, we introduced Explainable AI as a method for post-hoc assessment of the validity for the predictions of a model. Discuss how you could use explanations also as an active component during the training process to avoid shortcut learning / Clever Hans effects. As an example, you can look at the paper \"Supervising Model Attention with Human Explanations for Robust Natural Language Inference\" (https://ojs.aaai.org/index.php/AAAI/article/view/21386). Name one explanation approach from the lecture which would could be used in this framework and one which would not. Justify your answer. (3 points)"
   ]
  },
  {
   "cell_type": "markdown",
   "metadata": {},
   "source": [
    "Explanations can be used during model training to mitigate shortcut learning and Clever Hans effects by guiding the model's attention towards relevant features. The paper \"Supervising Model Attention with Human Explanations for Robust Natural Language Inference\" demonstrates this approach:\n",
    "\n",
    "- Collect human-provided explanations or important word highlights for training data.\n",
    "- Introduce an additional loss term to align the model's attention weights with these human explanations.\n",
    "- Calculate attention weights for relevant tokens (e.g., [CLS]) during training.\n",
    "- Adjust the loss function to include both classification loss and attention supervision loss.\n",
    "- Train the model with this combined loss function.\n",
    "\n",
    "This method encourages the model to focus on features humans deem important, improving generalization and robustness.\n",
    "\n",
    "- Suitable explanation approach: SHAP (SHapley Additive exPlanations)\n",
    "SHAP provides consistent, granular feature importance values that can be integrated into the training process. It offers both global and local explanations, aligning well with the goal of supervising model attention.\n",
    "\n",
    "- Unsuitable explanation approach: LIME (Local Interpretable Model-agnostic Explanations)\n",
    "LIME's local linear approximations may not capture the complex, non-linear relationships in deep NLP models. Its explanations can be unstable and computationally expensive to generate for each training example. LIME lacks consistency guarantees and is limited to local explanations, making it less suitable for guiding overall model attention during training."
   ]
  },
  {
   "cell_type": "markdown",
   "metadata": {},
   "source": [
    "### Exercise 10: Sustainable AI\n",
    "\n",
    "Read the paper \"Beyond neural scaling laws: beating power law scaling via data pruning\": https://proceedings.neurips.cc/paper_files/paper/2022/file/7b75da9b61eda40fa35453ee5d077df6-Paper-Conference.pdf"
   ]
  },
  {
   "cell_type": "markdown",
   "metadata": {},
   "source": [
    "a) Assume that you are training a model for sentiment classification on text data from social media. You are training a self-supervised transformer model on unlabeled social media posts and then train a downstream classification model based on the representations learnt by the transformer on a smaller labeled sentiment data set. How could you use the proposed method from the paper to reduce energy consumption during training? Would you employ different strategies for the self-supervised pretraining and the supervised downstream training? (2 points)"
   ]
  },
  {
   "cell_type": "markdown",
   "metadata": {},
   "source": [
    "**Self-Supervised Pretraining**\n",
    "\n",
    "Steps:\n",
    "\n",
    "- a) Initial Subset: Start with a small random subset of the unlabeled data.\n",
    "- b) Initial Training: Train the transformer model for a few epochs on this subset.\n",
    "- c) Evaluate Samples: Use the partially trained model to measure the loss on a larger set of samples, identifying the hardest examples (highest loss).\n",
    "- d) Select Hard Examples: Add the hardest examples to the training set.\n",
    "- e) Continue Training: Continue training with this updated dataset.\n",
    "- f) Iterative Pruning: Periodically repeat steps c-e to continuously focus on the most informative examples.\n",
    "\n",
    "This approach reduces the number of training samples, thereby lowering computational costs and energy consumption.\n",
    "\n",
    "**Supervised Downstream Training**\n",
    "\n",
    "Steps:\n",
    "\n",
    "- a) Initial Dataset: Start with the full labeled dataset.\n",
    "- b) Obtain Representations: Use the pretrained transformer to get representations for all samples.\n",
    "- c) Initial Training: Train the classification model for a few epochs.\n",
    "- d) Evaluate Performance: Assess the model’s performance on each training sample, identifying easy examples that are consistently classified correctly with high confidence.\n",
    "- e) Prune Easy Examples: Remove these easy examples from the training set.\n",
    "- f) Continue Training: Continue training with the pruned dataset, focusing on the more challenging examples.\n",
    "- g) Iterative Pruning: Periodically reassess and further prune the dataset as training progresses.\n",
    "\n",
    "By removing easy examples, the model trains more efficiently on the challenging data, improving performance while reducing energy consumption."
   ]
  },
  {
   "cell_type": "markdown",
   "metadata": {},
   "source": [
    "b) Ethical considerations of pruning are briefly mentioned at the end of the paper. Elaborate these points: What ethical issues could arise from the pruning approach? What does that imply for assessing sustainability of the machine learning model in question? (2 points)"
   ]
  },
  {
   "cell_type": "markdown",
   "metadata": {},
   "source": [
    "One major issue with pruning less representative samples is the risk of excluding minority or atypical cases. This can result in a model that performs well on the majority of data but poorly on underrepresented cases. For instance, if the dataset mainly consists of social media posts from a particular demographic, pruning might disproportionately remove posts from other demographics, leading to a biased model that fails to reflect or serve the diversity of the user base.\n",
    "\n",
    "A sustainable model must be equitable and reliable across different population segments. If pruning introduces bias or unfairness, the model's long-term utility and trustworthiness are compromised. Therefore, ensuring that the pruning process is transparent and carefully monitored to retain representative samples from all demographics is essential."
   ]
  },
  {
   "cell_type": "markdown",
   "metadata": {},
   "source": [
    "c)i) Use a library for measuring energy consumption (such as Zeus: https://github.com/ml-energy/zeus) for training the RNN model from task 4 (RNN/GRU). Generate a plot which shows the cumulative energy costs per training epoch and the relative costs per point of performance improvement per epoch. Describe your observations. (3 points)"
   ]
  },
  {
   "cell_type": "code",
   "execution_count": 3,
   "metadata": {},
   "outputs": [
    {
     "name": "stdout",
     "output_type": "stream",
     "text": [
      "Requirement already satisfied: zeus-ml in /Users/lopaker/miniconda3/envs/AML_Tut/lib/python3.8/site-packages (0.8.2)\n",
      "Requirement already satisfied: pynvml in /Users/lopaker/miniconda3/envs/AML_Tut/lib/python3.8/site-packages (11.5.2)\n",
      "Requirement already satisfied: numpy in /Users/lopaker/miniconda3/envs/AML_Tut/lib/python3.8/site-packages (from zeus-ml) (1.24.2)\n",
      "Requirement already satisfied: pandas in /Users/lopaker/miniconda3/envs/AML_Tut/lib/python3.8/site-packages (from zeus-ml) (2.0.0)\n",
      "Requirement already satisfied: scikit-learn in /Users/lopaker/miniconda3/envs/AML_Tut/lib/python3.8/site-packages (from zeus-ml) (1.2.2)\n",
      "Requirement already satisfied: nvidia-ml-py in /Users/lopaker/miniconda3/envs/AML_Tut/lib/python3.8/site-packages (from zeus-ml) (12.555.43)\n",
      "Requirement already satisfied: pydantic in /Users/lopaker/miniconda3/envs/AML_Tut/lib/python3.8/site-packages (from zeus-ml) (1.10.15)\n",
      "Requirement already satisfied: rich in /Users/lopaker/miniconda3/envs/AML_Tut/lib/python3.8/site-packages (from zeus-ml) (13.7.1)\n",
      "Requirement already satisfied: tyro in /Users/lopaker/miniconda3/envs/AML_Tut/lib/python3.8/site-packages (from zeus-ml) (0.8.5)\n",
      "Requirement already satisfied: python-dateutil>=2.8.2 in /Users/lopaker/miniconda3/envs/AML_Tut/lib/python3.8/site-packages (from pandas->zeus-ml) (2.9.0.post0)\n",
      "Requirement already satisfied: pytz>=2020.1 in /Users/lopaker/miniconda3/envs/AML_Tut/lib/python3.8/site-packages (from pandas->zeus-ml) (2024.1)\n",
      "Requirement already satisfied: tzdata>=2022.1 in /Users/lopaker/miniconda3/envs/AML_Tut/lib/python3.8/site-packages (from pandas->zeus-ml) (2024.1)\n",
      "Requirement already satisfied: typing-extensions>=4.2.0 in /Users/lopaker/miniconda3/envs/AML_Tut/lib/python3.8/site-packages (from pydantic->zeus-ml) (4.11.0)\n",
      "Requirement already satisfied: markdown-it-py>=2.2.0 in /Users/lopaker/miniconda3/envs/AML_Tut/lib/python3.8/site-packages (from rich->zeus-ml) (3.0.0)\n",
      "Requirement already satisfied: pygments<3.0.0,>=2.13.0 in /Users/lopaker/miniconda3/envs/AML_Tut/lib/python3.8/site-packages (from rich->zeus-ml) (2.17.2)\n",
      "Requirement already satisfied: scipy>=1.3.2 in /Users/lopaker/miniconda3/envs/AML_Tut/lib/python3.8/site-packages (from scikit-learn->zeus-ml) (1.9.1)\n",
      "Requirement already satisfied: joblib>=1.1.1 in /Users/lopaker/miniconda3/envs/AML_Tut/lib/python3.8/site-packages (from scikit-learn->zeus-ml) (1.4.0)\n",
      "Requirement already satisfied: threadpoolctl>=2.0.0 in /Users/lopaker/miniconda3/envs/AML_Tut/lib/python3.8/site-packages (from scikit-learn->zeus-ml) (3.4.0)\n",
      "Requirement already satisfied: docstring-parser>=0.16 in /Users/lopaker/miniconda3/envs/AML_Tut/lib/python3.8/site-packages (from tyro->zeus-ml) (0.16)\n",
      "Requirement already satisfied: shtab>=1.5.6 in /Users/lopaker/miniconda3/envs/AML_Tut/lib/python3.8/site-packages (from tyro->zeus-ml) (1.7.1)\n",
      "Requirement already satisfied: eval-type-backport>=0.1.3 in /Users/lopaker/miniconda3/envs/AML_Tut/lib/python3.8/site-packages (from tyro->zeus-ml) (0.2.0)\n",
      "Requirement already satisfied: mdurl~=0.1 in /Users/lopaker/miniconda3/envs/AML_Tut/lib/python3.8/site-packages (from markdown-it-py>=2.2.0->rich->zeus-ml) (0.1.2)\n",
      "Requirement already satisfied: six>=1.5 in /Users/lopaker/miniconda3/envs/AML_Tut/lib/python3.8/site-packages (from python-dateutil>=2.8.2->pandas->zeus-ml) (1.16.0)\n"
     ]
    }
   ],
   "source": [
    "!pip install zeus-ml pynvml"
   ]
  },
  {
   "cell_type": "code",
   "execution_count": 2,
   "metadata": {},
   "outputs": [
    {
     "ename": "NVMLError_LibraryNotFound",
     "evalue": "NVML Shared Library Not Found",
     "output_type": "error",
     "traceback": [
      "\u001b[0;31m---------------------------------------------------------------------------\u001b[0m",
      "\u001b[0;31mOSError\u001b[0m                                   Traceback (most recent call last)",
      "File \u001b[0;32m~/miniconda3/envs/AML_Tut/lib/python3.8/site-packages/pynvml/nvml.py:1798\u001b[0m, in \u001b[0;36m_LoadNvmlLibrary\u001b[0;34m()\u001b[0m\n\u001b[1;32m   1796\u001b[0m     \u001b[38;5;28;01melse\u001b[39;00m:\n\u001b[1;32m   1797\u001b[0m         \u001b[38;5;66;03m# assume linux\u001b[39;00m\n\u001b[0;32m-> 1798\u001b[0m         nvmlLib \u001b[38;5;241m=\u001b[39m \u001b[43mCDLL\u001b[49m\u001b[43m(\u001b[49m\u001b[38;5;124;43m\"\u001b[39;49m\u001b[38;5;124;43mlibnvidia-ml.so.1\u001b[39;49m\u001b[38;5;124;43m\"\u001b[39;49m\u001b[43m)\u001b[49m\n\u001b[1;32m   1799\u001b[0m \u001b[38;5;28;01mexcept\u001b[39;00m \u001b[38;5;167;01mOSError\u001b[39;00m \u001b[38;5;28;01mas\u001b[39;00m ose:\n",
      "File \u001b[0;32m~/miniconda3/envs/AML_Tut/lib/python3.8/ctypes/__init__.py:373\u001b[0m, in \u001b[0;36mCDLL.__init__\u001b[0;34m(self, name, mode, handle, use_errno, use_last_error, winmode)\u001b[0m\n\u001b[1;32m    372\u001b[0m \u001b[38;5;28;01mif\u001b[39;00m handle \u001b[38;5;129;01mis\u001b[39;00m \u001b[38;5;28;01mNone\u001b[39;00m:\n\u001b[0;32m--> 373\u001b[0m     \u001b[38;5;28mself\u001b[39m\u001b[38;5;241m.\u001b[39m_handle \u001b[38;5;241m=\u001b[39m \u001b[43m_dlopen\u001b[49m\u001b[43m(\u001b[49m\u001b[38;5;28;43mself\u001b[39;49m\u001b[38;5;241;43m.\u001b[39;49m\u001b[43m_name\u001b[49m\u001b[43m,\u001b[49m\u001b[43m \u001b[49m\u001b[43mmode\u001b[49m\u001b[43m)\u001b[49m\n\u001b[1;32m    374\u001b[0m \u001b[38;5;28;01melse\u001b[39;00m:\n",
      "\u001b[0;31mOSError\u001b[0m: dlopen(libnvidia-ml.so.1, 0x0006): tried: 'libnvidia-ml.so.1' (no such file), '/System/Volumes/Preboot/Cryptexes/OSlibnvidia-ml.so.1' (no such file), '/Users/lopaker/miniconda3/envs/AML_Tut/lib/libnvidia-ml.so.1' (no such file), '/System/Volumes/Preboot/Cryptexes/OS/Users/lopaker/miniconda3/envs/AML_Tut/lib/libnvidia-ml.so.1' (no such file), '/Users/lopaker/miniconda3/envs/AML_Tut/lib/libnvidia-ml.so.1' (no such file), '/System/Volumes/Preboot/Cryptexes/OS/Users/lopaker/miniconda3/envs/AML_Tut/lib/libnvidia-ml.so.1' (no such file), '/Users/lopaker/miniconda3/envs/AML_Tut/lib/python3.8/lib-dynload/../../libnvidia-ml.so.1' (no such file), '/Users/lopaker/miniconda3/envs/AML_Tut/lib/libnvidia-ml.so.1' (no such file), '/System/Volumes/Preboot/Cryptexes/OS/Users/lopaker/miniconda3/envs/AML_Tut/lib/libnvidia-ml.so.1' (no such file), '/Users/lopaker/miniconda3/envs/AML_Tut/bin/../lib/libnvidia-ml.so.1' (no such file), '/usr/lib/libnvidia-ml.so.1' (no such file, not in dyld cache), 'libnvidia-ml.so.1' (no such file), '/usr/local/lib/libnvidia-ml.so.1' (no such file), '/usr/lib/libnvidia-ml.so.1' (no such file, not in dyld cache)",
      "\nDuring handling of the above exception, another exception occurred:\n",
      "\u001b[0;31mNVMLError_LibraryNotFound\u001b[0m                 Traceback (most recent call last)",
      "Cell \u001b[0;32mIn[2], line 9\u001b[0m\n\u001b[1;32m      6\u001b[0m \u001b[38;5;28miter\u001b[39m \u001b[38;5;241m=\u001b[39m \u001b[38;5;241m0\u001b[39m\n\u001b[1;32m      8\u001b[0m \u001b[38;5;66;03m# Measure total time and energy within the window.\u001b[39;00m\n\u001b[0;32m----> 9\u001b[0m monitor \u001b[38;5;241m=\u001b[39m \u001b[43mZeusMonitor\u001b[49m\u001b[43m(\u001b[49m\u001b[43m)\u001b[49m\n\u001b[1;32m     10\u001b[0m monitor\u001b[38;5;241m.\u001b[39mbegin_window(\u001b[38;5;124m\"\u001b[39m\u001b[38;5;124mtraining\u001b[39m\u001b[38;5;124m\"\u001b[39m)\n\u001b[1;32m     11\u001b[0m \u001b[38;5;28;01mfor\u001b[39;00m epoch \u001b[38;5;129;01min\u001b[39;00m \u001b[38;5;28mrange\u001b[39m(num_epochs):\n",
      "File \u001b[0;32m~/miniconda3/envs/AML_Tut/lib/python3.8/site-packages/zeus/monitor/energy.py:132\u001b[0m, in \u001b[0;36mZeusMonitor.__init__\u001b[0;34m(self, gpu_indices, approx_instant_energy, log_file)\u001b[0m\n\u001b[1;32m    129\u001b[0m \u001b[38;5;28mself\u001b[39m\u001b[38;5;241m.\u001b[39mapprox_instant_energy \u001b[38;5;241m=\u001b[39m approx_instant_energy\n\u001b[1;32m    131\u001b[0m \u001b[38;5;66;03m# Initialize NVML.\u001b[39;00m\n\u001b[0;32m--> 132\u001b[0m \u001b[43mpynvml\u001b[49m\u001b[38;5;241;43m.\u001b[39;49m\u001b[43mnvmlInit\u001b[49m\u001b[43m(\u001b[49m\u001b[43m)\u001b[49m\n\u001b[1;32m    133\u001b[0m atexit\u001b[38;5;241m.\u001b[39mregister(pynvml\u001b[38;5;241m.\u001b[39mnvmlShutdown)\n\u001b[1;32m    135\u001b[0m \u001b[38;5;66;03m# CUDA GPU indices and NVML GPU indices are different if `CUDA_VISIBLE_DEVICES` is set.\u001b[39;00m\n",
      "File \u001b[0;32m~/miniconda3/envs/AML_Tut/lib/python3.8/site-packages/pynvml/nvml.py:1770\u001b[0m, in \u001b[0;36mnvmlInit\u001b[0;34m()\u001b[0m\n\u001b[1;32m   1769\u001b[0m \u001b[38;5;28;01mdef\u001b[39;00m \u001b[38;5;21mnvmlInit\u001b[39m():\n\u001b[0;32m-> 1770\u001b[0m     \u001b[43mnvmlInitWithFlags\u001b[49m\u001b[43m(\u001b[49m\u001b[38;5;241;43m0\u001b[39;49m\u001b[43m)\u001b[49m\n\u001b[1;32m   1771\u001b[0m     \u001b[38;5;28;01mreturn\u001b[39;00m \u001b[38;5;28;01mNone\u001b[39;00m\n",
      "File \u001b[0;32m~/miniconda3/envs/AML_Tut/lib/python3.8/site-packages/pynvml/nvml.py:1753\u001b[0m, in \u001b[0;36mnvmlInitWithFlags\u001b[0;34m(flags)\u001b[0m\n\u001b[1;32m   1752\u001b[0m \u001b[38;5;28;01mdef\u001b[39;00m \u001b[38;5;21mnvmlInitWithFlags\u001b[39m(flags):\n\u001b[0;32m-> 1753\u001b[0m     \u001b[43m_LoadNvmlLibrary\u001b[49m\u001b[43m(\u001b[49m\u001b[43m)\u001b[49m\n\u001b[1;32m   1755\u001b[0m     \u001b[38;5;66;03m#\u001b[39;00m\n\u001b[1;32m   1756\u001b[0m     \u001b[38;5;66;03m# Initialize the library\u001b[39;00m\n\u001b[1;32m   1757\u001b[0m     \u001b[38;5;66;03m#\u001b[39;00m\n\u001b[1;32m   1758\u001b[0m     fn \u001b[38;5;241m=\u001b[39m _nvmlGetFunctionPointer(\u001b[38;5;124m\"\u001b[39m\u001b[38;5;124mnvmlInitWithFlags\u001b[39m\u001b[38;5;124m\"\u001b[39m)\n",
      "File \u001b[0;32m~/miniconda3/envs/AML_Tut/lib/python3.8/site-packages/pynvml/nvml.py:1800\u001b[0m, in \u001b[0;36m_LoadNvmlLibrary\u001b[0;34m()\u001b[0m\n\u001b[1;32m   1798\u001b[0m         nvmlLib \u001b[38;5;241m=\u001b[39m CDLL(\u001b[38;5;124m\"\u001b[39m\u001b[38;5;124mlibnvidia-ml.so.1\u001b[39m\u001b[38;5;124m\"\u001b[39m)\n\u001b[1;32m   1799\u001b[0m \u001b[38;5;28;01mexcept\u001b[39;00m \u001b[38;5;167;01mOSError\u001b[39;00m \u001b[38;5;28;01mas\u001b[39;00m ose:\n\u001b[0;32m-> 1800\u001b[0m     \u001b[43m_nvmlCheckReturn\u001b[49m\u001b[43m(\u001b[49m\u001b[43mNVML_ERROR_LIBRARY_NOT_FOUND\u001b[49m\u001b[43m)\u001b[49m\n\u001b[1;32m   1801\u001b[0m \u001b[38;5;28;01mif\u001b[39;00m (nvmlLib \u001b[38;5;241m==\u001b[39m \u001b[38;5;28;01mNone\u001b[39;00m):\n\u001b[1;32m   1802\u001b[0m     _nvmlCheckReturn(NVML_ERROR_LIBRARY_NOT_FOUND)\n",
      "File \u001b[0;32m~/miniconda3/envs/AML_Tut/lib/python3.8/site-packages/pynvml/nvml.py:833\u001b[0m, in \u001b[0;36m_nvmlCheckReturn\u001b[0;34m(ret)\u001b[0m\n\u001b[1;32m    831\u001b[0m \u001b[38;5;28;01mdef\u001b[39;00m \u001b[38;5;21m_nvmlCheckReturn\u001b[39m(ret):\n\u001b[1;32m    832\u001b[0m     \u001b[38;5;28;01mif\u001b[39;00m (ret \u001b[38;5;241m!=\u001b[39m NVML_SUCCESS):\n\u001b[0;32m--> 833\u001b[0m         \u001b[38;5;28;01mraise\u001b[39;00m NVMLError(ret)\n\u001b[1;32m    834\u001b[0m     \u001b[38;5;28;01mreturn\u001b[39;00m ret\n",
      "\u001b[0;31mNVMLError_LibraryNotFound\u001b[0m: NVML Shared Library Not Found"
     ]
    }
   ],
   "source": [
    "from zeus.monitor import ZeusMonitor\n",
    "\n",
    "# RNN Training\n",
    "# Number of steps to unroll\n",
    "seq_dim = 28  \n",
    "iter = 0\n",
    "\n",
    "# Measure total time and energy within the window.\n",
    "monitor = ZeusMonitor()\n",
    "monitor.begin_window(\"training\")\n",
    "for epoch in range(num_epochs):\n",
    "    monitor.begin_window(\"epoch\")\n",
    "    for i, (images, labels) in enumerate(train_loader):\n",
    "        # Load images as Variable\n",
    "        if torch.cuda.is_available():\n",
    "            images = Variable(images.view(-1, seq_dim, input_dim).cuda())\n",
    "            labels = Variable(labels.cuda())\n",
    "        else:\n",
    "            images = Variable(images.view(-1, seq_dim, input_dim))\n",
    "            labels = Variable(labels)\n",
    "            \n",
    "        # Clear gradients w.r.t. parameters\n",
    "        optimizer_rnn.zero_grad()\n",
    "        \n",
    "        # Forward pass to get output/logits\n",
    "        outputs = model_rnn(images)\n",
    "        \n",
    "        # Calculate Loss\n",
    "        loss = criterion(outputs, labels)\n",
    "        \n",
    "        # Getting gradients w.r.t. parameters\n",
    "        loss.backward()\n",
    "        \n",
    "        # Updating parameters\n",
    "        optimizer_rnn.step()\n",
    "        \n",
    "        iter += 1\n",
    "        \n",
    "        if iter % 500 == 0:\n",
    "            # Calculate Accuracy         \n",
    "            correct = 0\n",
    "            total = 0\n",
    "            # Iterate through test dataset\n",
    "            for images, labels in test_loader:\n",
    "                if torch.cuda.is_available():\n",
    "                    images = Variable(images.view(-1, seq_dim, input_dim).cuda())\n",
    "                else:\n",
    "                    images = Variable(images.view(-1, seq_dim, input_dim))\n",
    "                \n",
    "                # Forward pass only to get logits/output\n",
    "                outputs = model_rnn(images)\n",
    "                \n",
    "                # Get predictions from the maximum value\n",
    "                _, predicted = torch.max(outputs.data, 1)\n",
    "                \n",
    "                # Total number of labels\n",
    "                total += labels.size(0)\n",
    "                \n",
    "                # Total correct predictions\n",
    "                if torch.cuda.is_available():\n",
    "                    correct += (predicted.cpu() == labels.cpu()).sum()\n",
    "                else:\n",
    "                    correct += (predicted == labels).sum()\n",
    "            \n",
    "            accuracy = 100 * correct / total\n",
    "            \n",
    "            # Print Loss\n",
    "            print('Iteration: {}. Loss: {}. Accuracy: {}'.format(iter, loss.item(), accuracy))\n",
    "    measurement = monitor.end_window(\"epoch\")\n",
    "    print(f\"Epoch {epoch}: {measurement.time} s, {measurement.total_energy} J\")\n",
    "\n",
    "measurement = monitor.end_window(\"training\")\n",
    "print(f\"Entire training: {measurement.time} s, {measurement.total_energy} J\")\n"
   ]
  },
  {
   "cell_type": "markdown",
   "metadata": {},
   "source": [
    "*Insert your answer here*"
   ]
  },
  {
   "cell_type": "markdown",
   "metadata": {},
   "source": [
    "c)ii) Measure also the energy consumption of training the GRU model from task 4, generating the same type of visualization as in c)i). Compare the two models in terms of their training consumption, relating your observations to the models characteristics. (1 points)"
   ]
  },
  {
   "cell_type": "code",
   "execution_count": null,
   "metadata": {},
   "outputs": [
    {
     "ename": "NameError",
     "evalue": "name 'num_epochs' is not defined",
     "output_type": "error",
     "traceback": [
      "\u001b[1;31m---------------------------------------------------------------------------\u001b[0m",
      "\u001b[1;31mNameError\u001b[0m                                 Traceback (most recent call last)",
      "Cell \u001b[1;32mIn[5], line 7\u001b[0m\n\u001b[0;32m      4\u001b[0m seq_dim \u001b[38;5;241m=\u001b[39m \u001b[38;5;241m28\u001b[39m  \n\u001b[0;32m      6\u001b[0m \u001b[38;5;28miter\u001b[39m \u001b[38;5;241m=\u001b[39m \u001b[38;5;241m0\u001b[39m\n\u001b[1;32m----> 7\u001b[0m \u001b[38;5;28;01mfor\u001b[39;00m epoch \u001b[38;5;129;01min\u001b[39;00m \u001b[38;5;28mrange\u001b[39m(\u001b[43mnum_epochs\u001b[49m):\n\u001b[0;32m      8\u001b[0m     \u001b[38;5;28;01mfor\u001b[39;00m i, (images, labels) \u001b[38;5;129;01min\u001b[39;00m \u001b[38;5;28menumerate\u001b[39m(train_loader):\n\u001b[0;32m      9\u001b[0m         \u001b[38;5;66;03m# Load images as Variable\u001b[39;00m\n\u001b[0;32m     10\u001b[0m         \u001b[38;5;28;01mif\u001b[39;00m torch\u001b[38;5;241m.\u001b[39mcuda\u001b[38;5;241m.\u001b[39mis_available():\n",
      "\u001b[1;31mNameError\u001b[0m: name 'num_epochs' is not defined"
     ]
    }
   ],
   "source": [
    "# # GRU Training with energy consumption metrics\n",
    "\n",
    "# # from zeus.monitor import ZeusMonitor\n",
    "# # Number of steps to unroll\n",
    "# seq_dim = 28  \n",
    "\n",
    "# iter = 0\n",
    "# # monitor.begin_window(\"training\")\n",
    "# for epoch in range(num_epochs):\n",
    "#     for i, (images, labels) in enumerate(train_loader):\n",
    "#         # monitor.begin_window(\"epoch\")\n",
    "#         # Load images as Variable\n",
    "#         if torch.cuda.is_available():\n",
    "#             images = Variable(images.view(-1, seq_dim, input_dim).cuda())\n",
    "#             labels = Variable(labels.cuda())\n",
    "#         else:\n",
    "#             images = Variable(images.view(-1, seq_dim, input_dim))\n",
    "#             labels = Variable(labels)\n",
    "            \n",
    "#         # Clear gradients w.r.t. parameters\n",
    "#         optimizer_gru.zero_grad()\n",
    "        \n",
    "#         # Forward pass to get output/logits\n",
    "#         outputs = model_gru(images)\n",
    "        \n",
    "#         # Calculate Loss\n",
    "#         loss = criterion(outputs, labels)\n",
    "        \n",
    "#         # Getting gradients w.r.t. parameters\n",
    "#         loss.backward()\n",
    "        \n",
    "#         # Updating parameters\n",
    "#         optimizer_gru.step()\n",
    "        \n",
    "#         iter += 1\n",
    "        \n",
    "#         if iter % 500 == 0:\n",
    "#             # Calculate Accuracy         \n",
    "#             correct = 0\n",
    "#             total = 0\n",
    "#             # Iterate through test dataset\n",
    "#             for images, labels in test_loader:\n",
    "#                 if torch.cuda.is_available():\n",
    "#                     images = Variable(images.view(-1, seq_dim, input_dim).cuda())\n",
    "#                 else:\n",
    "#                     images = Variable(images.view(-1, seq_dim, input_dim))\n",
    "                \n",
    "#                 # Forward pass only to get logits/output\n",
    "#                 outputs = model_gru(images)\n",
    "                \n",
    "#                 # Get predictions from the maximum value\n",
    "#                 _, predicted = torch.max(outputs.data, 1)\n",
    "                \n",
    "#                 # Total number of labels\n",
    "#                 total += labels.size(0)\n",
    "                \n",
    "#                 # Total correct predictions\n",
    "#                 if torch.cuda.is_available():\n",
    "#                     correct += (predicted.cpu() == labels.cpu()).sum()\n",
    "#                 else:\n",
    "#                     correct += (predicted == labels).sum()\n",
    "            \n",
    "#             accuracy = 100 * correct / total\n",
    "            \n",
    "#             # Print Loss\n",
    "#             print('Iteration: {}. Loss: {}. Accuracy: {}'.format(iter, loss.item(), accuracy))\n",
    "# #     measurement = monitor.end_window(\"epoch\")\n",
    "# #     print(f\"Epoch {e}: {measurement.time} s, {measurement.total_energy} J\")\n",
    "\n",
    "# # measurement = monitor.end_window(\"training\")\n",
    "# # print(f\"Entire training: {measurement.time} s, {measurement.total_energy} J\")"
   ]
  },
  {
   "cell_type": "markdown",
   "metadata": {},
   "source": [
    "*Insert your answer here*"
   ]
  },
  {
   "cell_type": "markdown",
   "metadata": {},
   "source": [
    "d) DEAP (http://www.eecs.qmul.ac.uk/mmv/datasets/deap/doc/tac_special_issue_2011.pdf) is one of the most popular public data sets of physiological data for emotion recognition. Have a look at the data collection process and make a statement about potential biases a model trained on this data could exhibit. Make references to at least three different aspects of the paper (or other sources working with DEAP). What consequences could that have? (2 points)"
   ]
  },
  {
   "cell_type": "markdown",
   "metadata": {},
   "source": [
    "- Demographic Bias:\n",
    "\"32 Healthy participants (50% female), aged between 19 and 37 (mean age 26.9), participated in the experiment.\"\n",
    "The narrow age range and small sample size can lead to demographic bias. The dataset may not represent older adults, younger children, or individuals from different cultural and socio-economic backgrounds, limiting the model's applicability to a broader population.\n",
    "\n",
    "- Controlled Environment:\n",
    "\"the final 40 test video clips were chosen\", \"The experiments were performed in two laboratory environments with controlled illumination.\"\n",
    "Data collection occurred in a controlled setting where participants watched pre-selected music videos to elicit specific emotions. This controlled setup doesn't mirror real-world scenarios where emotions arise from a wide range of unpredictable stimuli. Therefore, models trained on this data might struggle to generalize to more naturalistic settings.\n",
    "\n",
    "- Subjectivity of Self-Reported Data:\n",
    "\"At the end of each trial, participants performed a self-assessment of their levels of arousal, valence, liking and dominance.\"\n",
    "Participants reported their emotional states after watching each video. These self-reports are subjective and can be influenced by personal biases and differences in emotional awareness. This can lead to inaccuracies in the data, affecting the reliability of the models.\n",
    "\n",
    "- Consequences:\n",
    "These biases can impact the model's performance and generalizability. Models trained on DEAP might not work well with diverse populations or in real-world applications, where emotional stimuli are varied and less predictable. This could limit the model's effectiveness in practical, everyday situations."
   ]
  },
  {
   "cell_type": "markdown",
   "metadata": {},
   "source": [
    "e) Assume you are working on a model which can detect enjoyment or boredom of a person from video recordings for improving content recommendation of a home entertainment platform. Give a short summary of how the AI Act would influence your work. At least mention how your system would be classified by the AI Act and name one aspect of how this will influence the training of the model and one with regards to its deployment with end-users. Provide references to specific parts of the AI act. (2 points)"
   ]
  },
  {
   "cell_type": "markdown",
   "metadata": {},
   "source": [
    "In Annex III: High-Risk AI Systems, the AI Act specifies that systems processing biometric data for emotion recognition are categorized as high-risk AI systems due to their potential implications for individual rights and privacy.\n",
    "\n",
    "- Data and Data Governance (Article 10): Developers must document design choices, data collection processes, and data origins, especially when involving personal data. This includes recording steps like annotation, labeling, cleaning, and making assumptions about the data.\n",
    "\n",
    "- Transparency and Provision of Information to Deployers (Article 13): Developers must ensure deployers understand, interpret, and use the model appropriately, providing information on its capabilities, limitations, and operational risks.\n",
    "\n",
    "- Human Oversight (Article 14): High-risk AI systems need mechanisms for effective human oversight to minimize risks to health, safety, and rights. Oversight measures should match the system's autonomy and context, allowing oversight personnel to understand its operation, monitor performance, and intervene if necessary."
   ]
  },
  {
   "cell_type": "markdown",
   "metadata": {
    "tags": []
   },
   "source": [
    "### Exercise 11: Dimensionality Reduction\n",
    "In exercise sheet 5, one of the tasks was to visualize the 2D latent space of a Variational Autoencoder trained on the MNIST digits dataset. It was intentionally limited to 2D to make visualization easier. One of the findings of that analysis was that the size of the latent space might be too small for the VAE to properly separate the different digits. In real life applications one might even use a latent dimension in the hundreds. Therefore, we will now operate in an example more closer to reality, by using a bigger latent space. Once the dimensionality of the latent space is larger than 3 it becomes difficult to visualize. Dimensinality reduction will help us. "
   ]
  },
  {
   "cell_type": "code",
   "execution_count": 4,
   "metadata": {
    "tags": []
   },
   "outputs": [],
   "source": [
    "import random\n",
    "from typing import Tuple, Dict, List\n",
    "import torchvision.utils as vutils\n",
    "\n",
    "import numpy as np\n",
    "import torch\n",
    "from torch import Tensor\n",
    "from pathlib import Path\n",
    "from torch.utils.data import DataLoader\n",
    "import matplotlib.pyplot as plt\n",
    "import sys\n",
    "\n",
    "RANDOM_SEED = 42\n",
    "\n",
    "# Set random seeds\n",
    "random.seed(RANDOM_SEED)\n",
    "torch.manual_seed(RANDOM_SEED)\n",
    "np.random.seed(RANDOM_SEED)"
   ]
  },
  {
   "cell_type": "code",
   "execution_count": 5,
   "metadata": {
    "tags": []
   },
   "outputs": [
    {
     "name": "stdout",
     "output_type": "stream",
     "text": [
      "Loading VAE from path: /Users/lopaker/Workspace/VSCode/AML_Tutorial/Protofolio/vae-model-32.pth\n",
      "VAE(\n",
      "  (encoder): MNISTEncoder(\n",
      "    (hidden_layers): Sequential(\n",
      "      (0): Linear(in_features=784, out_features=512, bias=True)\n",
      "      (1): ReLU()\n",
      "      (2): Linear(in_features=512, out_features=256, bias=True)\n",
      "      (3): ReLU()\n",
      "    )\n",
      "    (out_mu): Linear(in_features=256, out_features=32, bias=True)\n",
      "    (out_var): Linear(in_features=256, out_features=32, bias=True)\n",
      "  )\n",
      "  (decoder): MNISTDecoder(\n",
      "    (hidden_layers): Sequential(\n",
      "      (0): Linear(in_features=32, out_features=256, bias=True)\n",
      "      (1): ReLU()\n",
      "      (2): BatchNorm1d(256, eps=1e-05, momentum=0.1, affine=True, track_running_stats=True)\n",
      "      (3): Linear(in_features=256, out_features=512, bias=True)\n",
      "      (4): ReLU()\n",
      "      (5): BatchNorm1d(512, eps=1e-05, momentum=0.1, affine=True, track_running_stats=True)\n",
      "    )\n",
      "    (out_layer): Linear(in_features=512, out_features=784, bias=True)\n",
      "    (out_act_fn): Tanh()\n",
      "  )\n",
      ")\n"
     ]
    }
   ],
   "source": [
    "# Load vae.py - must be placed in the same directory as this notebook.\n",
    "import sys  \n",
    "sys.path.insert(0, '.')\n",
    "from vae import VAE, MNISTDecoder, MNISTEncoder\n",
    "\n",
    "MODEL_PATH = Path(\"./vae-model-32.pth\")\n",
    "LATENT_DIM = 32\n",
    "\n",
    "def load_vae(model_path: Path = MODEL_PATH, latent_dim: int  = 32) -> VAE:\n",
    "    \"\"\"\n",
    "    Initializes the variational auto-encoder and loads the state dict saved under model_path.\n",
    "    \"\"\"\n",
    "    if not model_path.exists():\n",
    "        sys.exit(f\"Found no model file under: {model_path.absolute()}.\\n\"\n",
    "                 f\"Please download the vae_model.pth from StudIP and place it in the directory of this notebook.\")\n",
    "    else:\n",
    "        print(f\"Loading VAE from path: {model_path.absolute()}\")\n",
    "    mnist_encoder = MNISTEncoder(latent_dim=LATENT_DIM)\n",
    "    mnist_decoder = MNISTDecoder(latent_dim=LATENT_DIM)\n",
    "    vae = VAE(mnist_encoder, mnist_decoder, latent_dim)\n",
    "    vae_state_dict = torch.load(model_path, map_location=torch.device('cpu'))\n",
    "    vae.load_state_dict(vae_state_dict)\n",
    "    return vae\n",
    "\n",
    "vae_model = load_vae(MODEL_PATH)\n",
    "vae_model.eval()\n",
    "print(vae_model)"
   ]
  },
  {
   "cell_type": "code",
   "execution_count": 6,
   "metadata": {},
   "outputs": [
    {
     "name": "stdout",
     "output_type": "stream",
     "text": [
      "Loading MNIST data...\n",
      "...MNIST data loaded\n"
     ]
    }
   ],
   "source": [
    "import utils\n",
    "import seaborn as sns\n",
    "import pandas as pd \n",
    "\n",
    "DATA_PATH = Path(\".\") / \"data\"\n",
    "print(\"Loading MNIST data...\")\n",
    "\n",
    "_, mnist_dev_set = utils.get_mnist_train_dev_loaders(DATA_PATH, batch_size=64, flatten_img=True)\n",
    "\n",
    "print(\"...MNIST data loaded\")"
   ]
  },
  {
   "cell_type": "markdown",
   "metadata": {},
   "source": [
    "a) Implement the missing sections from the following code cell. (5 points)"
   ]
  },
  {
   "cell_type": "code",
   "execution_count": 25,
   "metadata": {},
   "outputs": [
    {
     "name": "stdout",
     "output_type": "stream",
     "text": [
      "Running Exercise 1.1...\n"
     ]
    },
    {
     "data": {
      "image/png": "[encoded data removed]",
      "text/plain": [
       "<Figure size 1000x800 with 2 Axes>"
      ]
     },
     "metadata": {},
     "output_type": "display_data"
    }
   ],
   "source": [
    "from sklearn.manifold import TSNE\n",
    "\n",
    "def plot_latent_vector_scatter_plot(\n",
    "        vae: VAE,\n",
    "        mnist_dev_loader: DataLoader,\n",
    "        num_samples_per_class: int = 1000,\n",
    "        num_classes: int = 10,\n",
    "        show: bool = True\n",
    ") -> Tensor:\n",
    "    # We create a Dictionary of 1000 samples per MNIST class\n",
    "    # The Dict has the form: Dict[int, List[Tensor]],\n",
    "    # where the key is the MNIST digit and the value is a list of flattened MNSIT tensors\n",
    "    label_to_dev_samples = utils.get_label_to_dev_samples(mnist_dev_loader, num_samples_per_class, num_classes)\n",
    "\n",
    "    # Use the VAE to encode the MNIST digits to sampled latent vectors\n",
    "    # The latent vectors are saved in this list\n",
    "    all_dev_sample_latent_vecs = []\n",
    "    # Also store the labels in the same order for visualization purposes\n",
    "    all_labels = []\n",
    "    # HINT: Feel free to use functions from utils.py and vae.py\n",
    "    ## YOUR CODE HERE START\n",
    "    # Use the VAE to encode the MNIST digits to sampled latent vectors\n",
    "    for label, samples in label_to_dev_samples.items():\n",
    "        for sample in samples: # Add batch dimension\n",
    "            sample = sample.unsqueeze(0)\n",
    "            with torch.no_grad():\n",
    "                sample_latent_vec = vae.encode_data_to_sampled_latent_vec(sample)\n",
    "                all_dev_sample_latent_vecs.append(sample_latent_vec)\n",
    "                all_labels.append(label)\n",
    "    ## YOUR CODE HERE END\n",
    "    \n",
    "    # Use t-sne to reduce the latent embedding to two dimensions\n",
    "    ## YOUR CODE HERE START\n",
    "    \n",
    "    #print(all_dev_sample_latent_vecs)\n",
    "    #print(all_labels)\n",
    "    \n",
    "    # make a tensor out of the list\n",
    "    latent_vectors = torch.cat(all_dev_sample_latent_vecs)\n",
    "    \n",
    "    #print(latent_vectors)\n",
    "    \n",
    "    # initialize tsne\n",
    "    tsne = TSNE(n_components=2, random_state=42)\n",
    "    latent_vectors_2d = tsne.fit_transform(latent_vectors.cpu().numpy())\n",
    "    \n",
    "    ## YOUR CODE HERE END\n",
    "    \n",
    "    ## Create a Scatter plot of the latent vectors\n",
    "    ## YOUR CODE HERE (START)\n",
    "    # Plotting - mostly generated with ChatGPT\n",
    "    if(show):\n",
    "        plt.figure(figsize=(10, 8))\n",
    "        scatter = plt.scatter(latent_vectors_2d[:, 0], latent_vectors_2d[:, 1], c=all_labels, cmap='tab10', alpha=0.7)\n",
    "        plt.colorbar(scatter, ticks=range(num_classes))\n",
    "        plt.xlabel('Latent Dimension 1')\n",
    "        plt.ylabel('Latent Dimension 2')\n",
    "        plt.title('Latent Space of VAE Encoded MNIST Digits')\n",
    "    ## YOUR CODE HERE END\n",
    "\n",
    "    return all_dev_sample_latent_vecs\n",
    "\n",
    "print(\"Running Exercise 1.1...\")\n",
    "latent_code_dev_samples = plot_latent_vector_scatter_plot(vae_model, mnist_dev_set, show=True)"
   ]
  },
  {
   "cell_type": "markdown",
   "metadata": {},
   "source": [
    "b) In the following you will have to answer a couple of questions regarding this result and t-SNE. As this was not covered in detail in the lecture, we provide you with the original paper of t-SNE (https://www.researchgate.net/publication/228339739_Viualizing_data_using_t-SNE) as well as a short introduction on how to interpret t-SNE vizualisations (https://distill.pub/2016/misread-tsne/). Note however, that the questions do NOT require mathematical reasoning, but rather build on general characteristics of t-SNE. "
   ]
  },
  {
   "cell_type": "markdown",
   "metadata": {},
   "source": [
    "i) What does this visualization tell us? (3 points)"
   ]
  },
  {
   "cell_type": "markdown",
   "metadata": {},
   "source": [
    "The visualization presents a t-SNE projection of VAE-encoded MNIST digits into a 2D latent space. This plot represents all 10,000 samples from the 10 digit classes, attempting to preserve relationships from the original higher-dimensional latent space.\n",
    "We can observe that the samples are grouped into distinct clusters, which largely correspond to the 10 digit classes as indicated by the color coding. This clustering suggests that the VAE has learned to separate the digit classes to some degree in its latent space representation.\n",
    "\n",
    "- Cluster separation: While the clusters appear well-defined and mostly separated, t-SNE tends to exaggerate gaps between clusters. The distances between clusters in this 2D projection may not accurately reflect their relationships in the original latent space.\n",
    "- Outliers: We see a few samples from each class that don't fall within their primary cluster. While these could represent misclassifications or challenging examples, they might also be artifacts of the t-SNE dimensionality reduction process.\n",
    "- Density and size: t-SNE equalizes densities across the plot by design, so we can't reliably infer anything about the relative sizes or densities of clusters in the original space.\n",
    "- Global structure: The overall layout of clusters in relation to each other may not reflect their true relationships in the higher-dimensional space, as t-SNE prioritizes preserving local structure.\n",
    "- Stochastic nature: t-SNE results can vary between runs, especially with certain datasets. Multiple runs with different random seeds would provide a more robust view."
   ]
  },
  {
   "cell_type": "markdown",
   "metadata": {},
   "source": [
    "ii) Does this representation tell us something about the similarities of different numbers? If so, give an example. Otherwise, explain why not. (1 point)"
   ]
  },
  {
   "cell_type": "markdown",
   "metadata": {},
   "source": [
    "- t-SNE is designed to preserve local structure in data, emphasizing the relationships between nearby points. This means it captures how similar individual points are to their immediate neighbors. However, it does not aim to preserve global structure, which involves the distances between well-separated clusters. Because of this, the distances between these clusters in a t-SNE plot may not accurately reflect their true relationships in the original high-dimensional space. Therefore, we cannot reliably infer the similarity of different numbers or clusters solely based on their positions in a t-SNE plot."
   ]
  },
  {
   "cell_type": "markdown",
   "metadata": {},
   "source": [
    "iii) In this example we vizualised the validation data in order to explore how the learned latent vectors look like on data that was not seen during training. Could such a visualization also be beneficial if the training data is used and this is performed before training any model? If so, explain in what way. (1 point)"
   ]
  },
  {
   "cell_type": "markdown",
   "metadata": {},
   "source": [
    "- Initial data structure insight: It can provide a preliminary view of how the raw data is structured, potentially revealing natural clusters or patterns among the digit classes.\n",
    "- Baseline reference: This visualization can serve as a starting point to compare against post-training embeddings, giving a rough idea of how the model has transformed the data representation.\n",
    "- Data quality check: It might help identify outliers, mislabeled samples, or class imbalances in the training set before investing time in model training."
   ]
  },
  {
   "cell_type": "markdown",
   "metadata": {},
   "source": [
    "\n",
    "### Exercise 12: AI Tools Reflection"
   ]
  },
  {
   "cell_type": "markdown",
   "metadata": {},
   "source": [
    "This task is mandatory! Did you use AI tools (ChatGPT, ...) for the work on this portfolio? Note that we did not forbid the use of such tools, but the disclosure of their application is obligatory. For what steps during the work on the portfolio did you use which AI tools? Do you consider the results to be helpful (and in what way)? How did you formulate queries and how did you process and validate the output of the models? (0 points)"
   ]
  },
  {
   "cell_type": "markdown",
   "metadata": {},
   "source": [
    "Usage of ChatGPT:\n",
    "\n",
    "AI tools like ChatGPT and Claude 3.5 Sonnet were crucial in making the portfolio. They generated draft answers, made graphs, gave second opinions, generated ideas and code, and reviewed our designs and answers. These tools acted as assistants, all reponses were fact-checked and the final review, editing, modification, approval, and accountability for the answers still lay with us.\n",
    "\n",
    "Some example prompts we used:\n",
    "\n",
    "    \"Act as an ML assistant. Review my answers, be as helpful as possible, explain your choices, and provide clear reasoning on how to proceed.\"\n",
    "    \"This is my final draft. What other suggestions do you have?\"\n",
    "    \"Pretend you are a computer scientist which only writes sentences he knows that are correct. rewrite me this explanation so it is more wholesome\"\n",
    "    \"Make this shorter and stick to the input given\"\n",
    "\n",
    "We are willing to provide the chat history if needed but they're a bit chaotic and unpredictable until we found the answer that were helpful for us. Many code didn't work right off the book but saved a lot of time compared to writing it from scratch. For example copying the Training Data into another folder or calculating the convolution was very helpful instead of doing it by hand."
   ]
  },
  {
   "cell_type": "markdown",
   "metadata": {},
   "source": [
    "<hr>\n",
    "<hr>\n",
    "\n",
    "### Individual Contribution Statement: \n",
    "Please state who of the group members contributed which part of the portfolio."
   ]
  },
  {
   "cell_type": "markdown",
   "metadata": {},
   "source": [
    "### Johannes\n",
    "\n",
    "Johannes did Task 5,7 11a, and helped with 2a2 - he also checked over all answers and did some minor corrections when needed\n",
    "\n",
    "### Taleb\n",
    "\n",
    "Taleb did Task 1,2,3,4 and 6a\n",
    "\n",
    "### Erendiro\n",
    "\n",
    "Eren did Task 6b, 6c, 8, 9, 10, 11b, and helped with 6a - he also checked over all answers and did some minor corrections when needed"
   ]
  }
 ],
 "metadata": {
  "kernelspec": {
   "display_name": "Python 3 (ipykernel)",
   "language": "python",
   "name": "python3"
  },
  "language_info": {
   "codemirror_mode": {
    "name": "ipython",
    "version": 3
   },
   "file_extension": ".py",
   "mimetype": "text/x-python",
   "name": "python",
   "nbconvert_exporter": "python",
   "pygments_lexer": "ipython3",
   "version": "3.8.8"
  }
 },
 "nbformat": 4,
 "nbformat_minor": 4
}
